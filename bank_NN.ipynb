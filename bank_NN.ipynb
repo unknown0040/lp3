{
 "cells": [
  {
   "cell_type": "code",
   "execution_count": 1,
   "id": "7e297fa4",
   "metadata": {},
   "outputs": [
    {
     "name": "stderr",
     "output_type": "stream",
     "text": [
      "C:\\Users\\Dell\\anaconda3\\lib\\site-packages\\scipy\\__init__.py:155: UserWarning: A NumPy version >=1.18.5 and <1.25.0 is required for this version of SciPy (detected version 1.26.1\n",
      "  warnings.warn(f\"A NumPy version >={np_minversion} and <{np_maxversion}\"\n"
     ]
    }
   ],
   "source": [
    "import numpy as np\n",
    "import pandas as pd\n",
    "import matplotlib.pyplot as plt\n",
    "import seaborn as sns\n",
    "sns.set()"
   ]
  },
  {
   "cell_type": "code",
   "execution_count": 2,
   "id": "70843bf0",
   "metadata": {},
   "outputs": [],
   "source": [
    "df = pd.read_csv(\"Churn_Modelling.csv\")"
   ]
  },
  {
   "cell_type": "code",
   "execution_count": 3,
   "id": "4dfc5db3",
   "metadata": {},
   "outputs": [
    {
     "data": {
      "text/html": [
       "<div>\n",
       "<style scoped>\n",
       "    .dataframe tbody tr th:only-of-type {\n",
       "        vertical-align: middle;\n",
       "    }\n",
       "\n",
       "    .dataframe tbody tr th {\n",
       "        vertical-align: top;\n",
       "    }\n",
       "\n",
       "    .dataframe thead th {\n",
       "        text-align: right;\n",
       "    }\n",
       "</style>\n",
       "<table border=\"1\" class=\"dataframe\">\n",
       "  <thead>\n",
       "    <tr style=\"text-align: right;\">\n",
       "      <th></th>\n",
       "      <th>RowNumber</th>\n",
       "      <th>CustomerId</th>\n",
       "      <th>Surname</th>\n",
       "      <th>CreditScore</th>\n",
       "      <th>Geography</th>\n",
       "      <th>Gender</th>\n",
       "      <th>Age</th>\n",
       "      <th>Tenure</th>\n",
       "      <th>Balance</th>\n",
       "      <th>NumOfProducts</th>\n",
       "      <th>HasCrCard</th>\n",
       "      <th>IsActiveMember</th>\n",
       "      <th>EstimatedSalary</th>\n",
       "      <th>Exited</th>\n",
       "    </tr>\n",
       "  </thead>\n",
       "  <tbody>\n",
       "    <tr>\n",
       "      <th>0</th>\n",
       "      <td>1</td>\n",
       "      <td>15634602</td>\n",
       "      <td>Hargrave</td>\n",
       "      <td>619</td>\n",
       "      <td>France</td>\n",
       "      <td>Female</td>\n",
       "      <td>42</td>\n",
       "      <td>2</td>\n",
       "      <td>0.00</td>\n",
       "      <td>1</td>\n",
       "      <td>1</td>\n",
       "      <td>1</td>\n",
       "      <td>101348.88</td>\n",
       "      <td>1</td>\n",
       "    </tr>\n",
       "    <tr>\n",
       "      <th>1</th>\n",
       "      <td>2</td>\n",
       "      <td>15647311</td>\n",
       "      <td>Hill</td>\n",
       "      <td>608</td>\n",
       "      <td>Spain</td>\n",
       "      <td>Female</td>\n",
       "      <td>41</td>\n",
       "      <td>1</td>\n",
       "      <td>83807.86</td>\n",
       "      <td>1</td>\n",
       "      <td>0</td>\n",
       "      <td>1</td>\n",
       "      <td>112542.58</td>\n",
       "      <td>0</td>\n",
       "    </tr>\n",
       "    <tr>\n",
       "      <th>2</th>\n",
       "      <td>3</td>\n",
       "      <td>15619304</td>\n",
       "      <td>Onio</td>\n",
       "      <td>502</td>\n",
       "      <td>France</td>\n",
       "      <td>Female</td>\n",
       "      <td>42</td>\n",
       "      <td>8</td>\n",
       "      <td>159660.80</td>\n",
       "      <td>3</td>\n",
       "      <td>1</td>\n",
       "      <td>0</td>\n",
       "      <td>113931.57</td>\n",
       "      <td>1</td>\n",
       "    </tr>\n",
       "    <tr>\n",
       "      <th>3</th>\n",
       "      <td>4</td>\n",
       "      <td>15701354</td>\n",
       "      <td>Boni</td>\n",
       "      <td>699</td>\n",
       "      <td>France</td>\n",
       "      <td>Female</td>\n",
       "      <td>39</td>\n",
       "      <td>1</td>\n",
       "      <td>0.00</td>\n",
       "      <td>2</td>\n",
       "      <td>0</td>\n",
       "      <td>0</td>\n",
       "      <td>93826.63</td>\n",
       "      <td>0</td>\n",
       "    </tr>\n",
       "    <tr>\n",
       "      <th>4</th>\n",
       "      <td>5</td>\n",
       "      <td>15737888</td>\n",
       "      <td>Mitchell</td>\n",
       "      <td>850</td>\n",
       "      <td>Spain</td>\n",
       "      <td>Female</td>\n",
       "      <td>43</td>\n",
       "      <td>2</td>\n",
       "      <td>125510.82</td>\n",
       "      <td>1</td>\n",
       "      <td>1</td>\n",
       "      <td>1</td>\n",
       "      <td>79084.10</td>\n",
       "      <td>0</td>\n",
       "    </tr>\n",
       "    <tr>\n",
       "      <th>...</th>\n",
       "      <td>...</td>\n",
       "      <td>...</td>\n",
       "      <td>...</td>\n",
       "      <td>...</td>\n",
       "      <td>...</td>\n",
       "      <td>...</td>\n",
       "      <td>...</td>\n",
       "      <td>...</td>\n",
       "      <td>...</td>\n",
       "      <td>...</td>\n",
       "      <td>...</td>\n",
       "      <td>...</td>\n",
       "      <td>...</td>\n",
       "      <td>...</td>\n",
       "    </tr>\n",
       "    <tr>\n",
       "      <th>9995</th>\n",
       "      <td>9996</td>\n",
       "      <td>15606229</td>\n",
       "      <td>Obijiaku</td>\n",
       "      <td>771</td>\n",
       "      <td>France</td>\n",
       "      <td>Male</td>\n",
       "      <td>39</td>\n",
       "      <td>5</td>\n",
       "      <td>0.00</td>\n",
       "      <td>2</td>\n",
       "      <td>1</td>\n",
       "      <td>0</td>\n",
       "      <td>96270.64</td>\n",
       "      <td>0</td>\n",
       "    </tr>\n",
       "    <tr>\n",
       "      <th>9996</th>\n",
       "      <td>9997</td>\n",
       "      <td>15569892</td>\n",
       "      <td>Johnstone</td>\n",
       "      <td>516</td>\n",
       "      <td>France</td>\n",
       "      <td>Male</td>\n",
       "      <td>35</td>\n",
       "      <td>10</td>\n",
       "      <td>57369.61</td>\n",
       "      <td>1</td>\n",
       "      <td>1</td>\n",
       "      <td>1</td>\n",
       "      <td>101699.77</td>\n",
       "      <td>0</td>\n",
       "    </tr>\n",
       "    <tr>\n",
       "      <th>9997</th>\n",
       "      <td>9998</td>\n",
       "      <td>15584532</td>\n",
       "      <td>Liu</td>\n",
       "      <td>709</td>\n",
       "      <td>France</td>\n",
       "      <td>Female</td>\n",
       "      <td>36</td>\n",
       "      <td>7</td>\n",
       "      <td>0.00</td>\n",
       "      <td>1</td>\n",
       "      <td>0</td>\n",
       "      <td>1</td>\n",
       "      <td>42085.58</td>\n",
       "      <td>1</td>\n",
       "    </tr>\n",
       "    <tr>\n",
       "      <th>9998</th>\n",
       "      <td>9999</td>\n",
       "      <td>15682355</td>\n",
       "      <td>Sabbatini</td>\n",
       "      <td>772</td>\n",
       "      <td>Germany</td>\n",
       "      <td>Male</td>\n",
       "      <td>42</td>\n",
       "      <td>3</td>\n",
       "      <td>75075.31</td>\n",
       "      <td>2</td>\n",
       "      <td>1</td>\n",
       "      <td>0</td>\n",
       "      <td>92888.52</td>\n",
       "      <td>1</td>\n",
       "    </tr>\n",
       "    <tr>\n",
       "      <th>9999</th>\n",
       "      <td>10000</td>\n",
       "      <td>15628319</td>\n",
       "      <td>Walker</td>\n",
       "      <td>792</td>\n",
       "      <td>France</td>\n",
       "      <td>Female</td>\n",
       "      <td>28</td>\n",
       "      <td>4</td>\n",
       "      <td>130142.79</td>\n",
       "      <td>1</td>\n",
       "      <td>1</td>\n",
       "      <td>0</td>\n",
       "      <td>38190.78</td>\n",
       "      <td>0</td>\n",
       "    </tr>\n",
       "  </tbody>\n",
       "</table>\n",
       "<p>10000 rows × 14 columns</p>\n",
       "</div>"
      ],
      "text/plain": [
       "      RowNumber  CustomerId    Surname  CreditScore Geography  Gender  Age  \\\n",
       "0             1    15634602   Hargrave          619    France  Female   42   \n",
       "1             2    15647311       Hill          608     Spain  Female   41   \n",
       "2             3    15619304       Onio          502    France  Female   42   \n",
       "3             4    15701354       Boni          699    France  Female   39   \n",
       "4             5    15737888   Mitchell          850     Spain  Female   43   \n",
       "...         ...         ...        ...          ...       ...     ...  ...   \n",
       "9995       9996    15606229   Obijiaku          771    France    Male   39   \n",
       "9996       9997    15569892  Johnstone          516    France    Male   35   \n",
       "9997       9998    15584532        Liu          709    France  Female   36   \n",
       "9998       9999    15682355  Sabbatini          772   Germany    Male   42   \n",
       "9999      10000    15628319     Walker          792    France  Female   28   \n",
       "\n",
       "      Tenure    Balance  NumOfProducts  HasCrCard  IsActiveMember  \\\n",
       "0          2       0.00              1          1               1   \n",
       "1          1   83807.86              1          0               1   \n",
       "2          8  159660.80              3          1               0   \n",
       "3          1       0.00              2          0               0   \n",
       "4          2  125510.82              1          1               1   \n",
       "...      ...        ...            ...        ...             ...   \n",
       "9995       5       0.00              2          1               0   \n",
       "9996      10   57369.61              1          1               1   \n",
       "9997       7       0.00              1          0               1   \n",
       "9998       3   75075.31              2          1               0   \n",
       "9999       4  130142.79              1          1               0   \n",
       "\n",
       "      EstimatedSalary  Exited  \n",
       "0           101348.88       1  \n",
       "1           112542.58       0  \n",
       "2           113931.57       1  \n",
       "3            93826.63       0  \n",
       "4            79084.10       0  \n",
       "...               ...     ...  \n",
       "9995         96270.64       0  \n",
       "9996        101699.77       0  \n",
       "9997         42085.58       1  \n",
       "9998         92888.52       1  \n",
       "9999         38190.78       0  \n",
       "\n",
       "[10000 rows x 14 columns]"
      ]
     },
     "execution_count": 3,
     "metadata": {},
     "output_type": "execute_result"
    }
   ],
   "source": [
    "df"
   ]
  },
  {
   "cell_type": "code",
   "execution_count": 4,
   "id": "3062ae0d",
   "metadata": {},
   "outputs": [
    {
     "data": {
      "text/plain": [
       "RowNumber          0\n",
       "CustomerId         0\n",
       "Surname            0\n",
       "CreditScore        0\n",
       "Geography          0\n",
       "Gender             0\n",
       "Age                0\n",
       "Tenure             0\n",
       "Balance            0\n",
       "NumOfProducts      0\n",
       "HasCrCard          0\n",
       "IsActiveMember     0\n",
       "EstimatedSalary    0\n",
       "Exited             0\n",
       "dtype: int64"
      ]
     },
     "execution_count": 4,
     "metadata": {},
     "output_type": "execute_result"
    }
   ],
   "source": [
    "df.isnull().sum()"
   ]
  },
  {
   "cell_type": "code",
   "execution_count": 5,
   "id": "e3538a1d",
   "metadata": {},
   "outputs": [
    {
     "data": {
      "text/plain": [
       "RowNumber            int64\n",
       "CustomerId           int64\n",
       "Surname             object\n",
       "CreditScore          int64\n",
       "Geography           object\n",
       "Gender              object\n",
       "Age                  int64\n",
       "Tenure               int64\n",
       "Balance            float64\n",
       "NumOfProducts        int64\n",
       "HasCrCard            int64\n",
       "IsActiveMember       int64\n",
       "EstimatedSalary    float64\n",
       "Exited               int64\n",
       "dtype: object"
      ]
     },
     "execution_count": 5,
     "metadata": {},
     "output_type": "execute_result"
    }
   ],
   "source": [
    "df.dtypes"
   ]
  },
  {
   "cell_type": "code",
   "execution_count": 6,
   "id": "2b3eee0d",
   "metadata": {},
   "outputs": [
    {
     "name": "stdout",
     "output_type": "stream",
     "text": [
      "['CreditScore', 'Geography', 'Gender', 'Age', 'Tenure', 'Balance', 'NumOfProducts', 'HasCrCard', 'IsActiveMember', 'EstimatedSalary']\n",
      "['Exited']\n"
     ]
    }
   ],
   "source": [
    "x_columns = df.columns.tolist()[3:13]\n",
    "y_columns = df.columns.tolist()[-1:]\n",
    "print(x_columns)\n",
    "print(y_columns)"
   ]
  },
  {
   "cell_type": "code",
   "execution_count": 7,
   "id": "c55b63ce",
   "metadata": {},
   "outputs": [
    {
     "name": "stdout",
     "output_type": "stream",
     "text": [
      "x =  [[619 'France' 'Female' ... 1 1 101348.88]\n",
      " [608 'Spain' 'Female' ... 0 1 112542.58]\n",
      " [502 'France' 'Female' ... 1 0 113931.57]\n",
      " ...\n",
      " [709 'France' 'Female' ... 0 1 42085.58]\n",
      " [772 'Germany' 'Male' ... 1 0 92888.52]\n",
      " [792 'France' 'Female' ... 1 0 38190.78]]\n",
      "y =  [[1]\n",
      " [0]\n",
      " [1]\n",
      " ...\n",
      " [1]\n",
      " [1]\n",
      " [0]]\n"
     ]
    }
   ],
   "source": [
    "x = df[x_columns].values\n",
    "y = df[y_columns].values\n",
    "print(\"x = \", x)\n",
    "print(\"y = \", y)"
   ]
  },
  {
   "cell_type": "code",
   "execution_count": 8,
   "id": "41ed4f70",
   "metadata": {},
   "outputs": [],
   "source": [
    "from sklearn.preprocessing import LabelEncoder\n",
    "x_column_transformer = LabelEncoder()\n",
    "x[:, 1] = x_column_transformer.fit_transform(x[:, 1])"
   ]
  },
  {
   "cell_type": "code",
   "execution_count": 9,
   "id": "7cf2b831",
   "metadata": {},
   "outputs": [],
   "source": [
    "x[:, 2] = x_column_transformer.fit_transform(x[:, 2])"
   ]
  },
  {
   "cell_type": "code",
   "execution_count": 10,
   "id": "792e651f",
   "metadata": {},
   "outputs": [],
   "source": [
    "from sklearn.preprocessing import StandardScaler, OneHotEncoder\n",
    "from sklearn.compose import ColumnTransformer\n",
    "from sklearn.pipeline import Pipeline\n",
    "\n",
    "pipeline = Pipeline(\n",
    "    [\n",
    "        ('Categorizer', ColumnTransformer(\n",
    "            [\n",
    "                (\"Gender Label Encoder\", OneHotEncoder(categories = 'auto', drop = 'first'), [2]),\n",
    "                (\"Geography Label Encoder\", OneHotEncoder(categories = 'auto', drop = 'first'), [1])\n",
    "            ], \n",
    "            remainder = 'passthrough', n_jobs = 1)),\n",
    "        ('Normalizer', StandardScaler())\n",
    "    ]\n",
    ")"
   ]
  },
  {
   "cell_type": "code",
   "execution_count": 11,
   "id": "881cfd99",
   "metadata": {},
   "outputs": [],
   "source": [
    "x = pipeline.fit_transform(x)"
   ]
  },
  {
   "cell_type": "code",
   "execution_count": 12,
   "id": "72ba241f",
   "metadata": {},
   "outputs": [],
   "source": [
    "from sklearn.model_selection import train_test_split\n",
    "X_train, X_test, y_train, y_test = train_test_split(x, y, test_size = 0.2, random_state = 0)"
   ]
  },
  {
   "cell_type": "code",
   "execution_count": 32,
   "id": "53f4e2f4",
   "metadata": {},
   "outputs": [
    {
     "name": "stdout",
     "output_type": "stream",
     "text": [
      "Collecting tensorflow\n",
      "  Using cached tensorflow-2.14.0-cp39-cp39-win_amd64.whl (2.1 kB)\n",
      "Collecting tensorflow-intel==2.14.0\n",
      "  Downloading tensorflow_intel-2.14.0-cp39-cp39-win_amd64.whl (284.1 MB)\n",
      "     -------------------------------------- 284.1/284.1 MB 2.4 MB/s eta 0:00:00\n",
      "Collecting protobuf!=4.21.0,!=4.21.1,!=4.21.2,!=4.21.3,!=4.21.4,!=4.21.5,<5.0.0dev,>=3.20.3\n",
      "  Downloading protobuf-4.25.0-cp39-cp39-win_amd64.whl (413 kB)\n",
      "     -------------------------------------- 413.2/413.2 kB 5.1 MB/s eta 0:00:00\n",
      "Collecting grpcio<2.0,>=1.24.3\n",
      "  Downloading grpcio-1.59.2-cp39-cp39-win_amd64.whl (3.7 MB)\n",
      "     ---------------------------------------- 3.7/3.7 MB 5.5 MB/s eta 0:00:00\n",
      "Collecting keras<2.15,>=2.14.0\n",
      "  Downloading keras-2.14.0-py3-none-any.whl (1.7 MB)\n",
      "     ---------------------------------------- 1.7/1.7 MB 6.0 MB/s eta 0:00:00\n",
      "Collecting google-pasta>=0.1.1\n",
      "  Downloading google_pasta-0.2.0-py3-none-any.whl (57 kB)\n",
      "     ---------------------------------------- 57.5/57.5 kB ? eta 0:00:00\n",
      "Collecting libclang>=13.0.0\n",
      "  Downloading libclang-16.0.6-py2.py3-none-win_amd64.whl (24.4 MB)\n",
      "     ---------------------------------------- 24.4/24.4 MB 4.6 MB/s eta 0:00:00\n",
      "Collecting astunparse>=1.6.0\n",
      "  Downloading astunparse-1.6.3-py2.py3-none-any.whl (12 kB)\n",
      "Requirement already satisfied: six>=1.12.0 in c:\\users\\dell\\anaconda3\\lib\\site-packages (from tensorflow-intel==2.14.0->tensorflow) (1.16.0)\n",
      "Requirement already satisfied: h5py>=2.9.0 in c:\\users\\dell\\anaconda3\\lib\\site-packages (from tensorflow-intel==2.14.0->tensorflow) (3.7.0)\n",
      "Collecting tensorflow-estimator<2.15,>=2.14.0\n",
      "  Downloading tensorflow_estimator-2.14.0-py2.py3-none-any.whl (440 kB)\n",
      "     -------------------------------------- 440.7/440.7 kB 4.6 MB/s eta 0:00:00\n",
      "Requirement already satisfied: setuptools in c:\\users\\dell\\anaconda3\\lib\\site-packages (from tensorflow-intel==2.14.0->tensorflow) (63.4.1)\n",
      "Requirement already satisfied: packaging in c:\\users\\dell\\anaconda3\\lib\\site-packages (from tensorflow-intel==2.14.0->tensorflow) (21.3)\n",
      "Collecting ml-dtypes==0.2.0\n",
      "  Downloading ml_dtypes-0.2.0-cp39-cp39-win_amd64.whl (938 kB)\n",
      "     -------------------------------------- 938.4/938.4 kB 5.4 MB/s eta 0:00:00\n",
      "Requirement already satisfied: typing-extensions>=3.6.6 in c:\\users\\dell\\anaconda3\\lib\\site-packages (from tensorflow-intel==2.14.0->tensorflow) (4.3.0)\n",
      "Collecting absl-py>=1.0.0\n",
      "  Downloading absl_py-2.0.0-py3-none-any.whl (130 kB)\n",
      "     -------------------------------------- 130.2/130.2 kB 7.5 MB/s eta 0:00:00\n",
      "Collecting tensorboard<2.15,>=2.14\n",
      "  Downloading tensorboard-2.14.1-py3-none-any.whl (5.5 MB)\n",
      "     ---------------------------------------- 5.5/5.5 MB 5.2 MB/s eta 0:00:00\n",
      "Requirement already satisfied: wrapt<1.15,>=1.11.0 in c:\\users\\dell\\anaconda3\\lib\\site-packages (from tensorflow-intel==2.14.0->tensorflow) (1.14.1)\n",
      "Collecting termcolor>=1.1.0\n",
      "  Downloading termcolor-2.3.0-py3-none-any.whl (6.9 kB)\n",
      "Collecting tensorflow-io-gcs-filesystem>=0.23.1\n",
      "  Downloading tensorflow_io_gcs_filesystem-0.31.0-cp39-cp39-win_amd64.whl (1.5 MB)\n",
      "     ---------------------------------------- 1.5/1.5 MB 4.1 MB/s eta 0:00:00\n",
      "Requirement already satisfied: numpy>=1.23.5 in c:\\users\\dell\\anaconda3\\lib\\site-packages (from tensorflow-intel==2.14.0->tensorflow) (1.26.1)\n",
      "Collecting flatbuffers>=23.5.26\n",
      "  Downloading flatbuffers-23.5.26-py2.py3-none-any.whl (26 kB)\n",
      "Collecting opt-einsum>=2.3.2\n",
      "  Downloading opt_einsum-3.3.0-py3-none-any.whl (65 kB)\n",
      "     ---------------------------------------- 65.5/65.5 kB 3.5 MB/s eta 0:00:00\n",
      "Collecting gast!=0.5.0,!=0.5.1,!=0.5.2,>=0.2.1\n",
      "  Downloading gast-0.5.4-py3-none-any.whl (19 kB)\n",
      "Requirement already satisfied: wheel<1.0,>=0.23.0 in c:\\users\\dell\\anaconda3\\lib\\site-packages (from astunparse>=1.6.0->tensorflow-intel==2.14.0->tensorflow) (0.37.1)\n",
      "Collecting tensorboard-data-server<0.8.0,>=0.7.0\n",
      "  Downloading tensorboard_data_server-0.7.2-py3-none-any.whl (2.4 kB)\n",
      "Requirement already satisfied: requests<3,>=2.21.0 in c:\\users\\dell\\anaconda3\\lib\\site-packages (from tensorboard<2.15,>=2.14->tensorflow-intel==2.14.0->tensorflow) (2.28.1)\n",
      "Collecting google-auth-oauthlib<1.1,>=0.5\n",
      "  Downloading google_auth_oauthlib-1.0.0-py2.py3-none-any.whl (18 kB)\n",
      "Collecting google-auth<3,>=1.6.3\n",
      "  Downloading google_auth-2.23.4-py2.py3-none-any.whl (183 kB)\n",
      "     -------------------------------------- 183.3/183.3 kB 3.7 MB/s eta 0:00:00\n",
      "Requirement already satisfied: werkzeug>=1.0.1 in c:\\users\\dell\\anaconda3\\lib\\site-packages (from tensorboard<2.15,>=2.14->tensorflow-intel==2.14.0->tensorflow) (2.0.3)\n",
      "Requirement already satisfied: markdown>=2.6.8 in c:\\users\\dell\\anaconda3\\lib\\site-packages (from tensorboard<2.15,>=2.14->tensorflow-intel==2.14.0->tensorflow) (3.3.4)\n",
      "Requirement already satisfied: pyparsing!=3.0.5,>=2.0.2 in c:\\users\\dell\\anaconda3\\lib\\site-packages (from packaging->tensorflow-intel==2.14.0->tensorflow) (3.0.9)\n",
      "Requirement already satisfied: pyasn1-modules>=0.2.1 in c:\\users\\dell\\anaconda3\\lib\\site-packages (from google-auth<3,>=1.6.3->tensorboard<2.15,>=2.14->tensorflow-intel==2.14.0->tensorflow) (0.2.8)\n",
      "Collecting cachetools<6.0,>=2.0.0\n",
      "  Downloading cachetools-5.3.2-py3-none-any.whl (9.3 kB)\n",
      "Collecting rsa<5,>=3.1.4\n",
      "  Downloading rsa-4.9-py3-none-any.whl (34 kB)\n",
      "Collecting requests-oauthlib>=0.7.0\n",
      "  Downloading requests_oauthlib-1.3.1-py2.py3-none-any.whl (23 kB)\n",
      "Requirement already satisfied: idna<4,>=2.5 in c:\\users\\dell\\anaconda3\\lib\\site-packages (from requests<3,>=2.21.0->tensorboard<2.15,>=2.14->tensorflow-intel==2.14.0->tensorflow) (3.3)\n",
      "Requirement already satisfied: charset-normalizer<3,>=2 in c:\\users\\dell\\anaconda3\\lib\\site-packages (from requests<3,>=2.21.0->tensorboard<2.15,>=2.14->tensorflow-intel==2.14.0->tensorflow) (2.0.4)\n",
      "Requirement already satisfied: certifi>=2017.4.17 in c:\\users\\dell\\anaconda3\\lib\\site-packages (from requests<3,>=2.21.0->tensorboard<2.15,>=2.14->tensorflow-intel==2.14.0->tensorflow) (2022.9.14)\n",
      "Requirement already satisfied: urllib3<1.27,>=1.21.1 in c:\\users\\dell\\anaconda3\\lib\\site-packages (from requests<3,>=2.21.0->tensorboard<2.15,>=2.14->tensorflow-intel==2.14.0->tensorflow) (1.26.11)\n",
      "Requirement already satisfied: pyasn1<0.5.0,>=0.4.6 in c:\\users\\dell\\anaconda3\\lib\\site-packages (from pyasn1-modules>=0.2.1->google-auth<3,>=1.6.3->tensorboard<2.15,>=2.14->tensorflow-intel==2.14.0->tensorflow) (0.4.8)\n",
      "Collecting oauthlib>=3.0.0\n",
      "  Downloading oauthlib-3.2.2-py3-none-any.whl (151 kB)\n",
      "     -------------------------------------- 151.7/151.7 kB 4.6 MB/s eta 0:00:00\n",
      "Installing collected packages: libclang, flatbuffers, termcolor, tensorflow-io-gcs-filesystem, tensorflow-estimator, tensorboard-data-server, rsa, protobuf, opt-einsum, oauthlib, ml-dtypes, keras, grpcio, google-pasta, gast, cachetools, astunparse, absl-py, requests-oauthlib, google-auth, google-auth-oauthlib, tensorboard, tensorflow-intel, tensorflow\n",
      "Successfully installed absl-py-2.0.0 astunparse-1.6.3 cachetools-5.3.2 flatbuffers-23.5.26 gast-0.5.4 google-auth-2.23.4 google-auth-oauthlib-1.0.0 google-pasta-0.2.0 grpcio-1.59.2 keras-2.14.0 libclang-16.0.6 ml-dtypes-0.2.0 oauthlib-3.2.2 opt-einsum-3.3.0 protobuf-4.25.0 requests-oauthlib-1.3.1 rsa-4.9 tensorboard-2.14.1 tensorboard-data-server-0.7.2 tensorflow-2.14.0 tensorflow-estimator-2.14.0 tensorflow-intel-2.14.0 tensorflow-io-gcs-filesystem-0.31.0 termcolor-2.3.0\n"
     ]
    },
    {
     "name": "stderr",
     "output_type": "stream",
     "text": [
      "WARNING: Ignoring invalid distribution -illow (c:\\users\\dell\\anaconda3\\lib\\site-packages)\n",
      "WARNING: Ignoring invalid distribution -illow (c:\\users\\dell\\anaconda3\\lib\\site-packages)\n",
      "WARNING: Ignoring invalid distribution -illow (c:\\users\\dell\\anaconda3\\lib\\site-packages)\n",
      "WARNING: Ignoring invalid distribution -illow (c:\\users\\dell\\anaconda3\\lib\\site-packages)\n",
      "WARNING: Ignoring invalid distribution -illow (c:\\users\\dell\\anaconda3\\lib\\site-packages)\n",
      "WARNING: Ignoring invalid distribution -illow (c:\\users\\dell\\anaconda3\\lib\\site-packages)\n",
      "WARNING: Ignoring invalid distribution -illow (c:\\users\\dell\\anaconda3\\lib\\site-packages)\n",
      "WARNING: Ignoring invalid distribution -illow (c:\\users\\dell\\anaconda3\\lib\\site-packages)\n",
      "WARNING: Ignoring invalid distribution -illow (c:\\users\\dell\\anaconda3\\lib\\site-packages)\n",
      "WARNING: Ignoring invalid distribution -illow (c:\\users\\dell\\anaconda3\\lib\\site-packages)\n",
      "WARNING: Ignoring invalid distribution -illow (c:\\users\\dell\\anaconda3\\lib\\site-packages)\n",
      "WARNING: Ignoring invalid distribution -illow (c:\\users\\dell\\anaconda3\\lib\\site-packages)\n",
      "WARNING: Ignoring invalid distribution -illow (c:\\users\\dell\\anaconda3\\lib\\site-packages)\n",
      "WARNING: Ignoring invalid distribution -illow (c:\\users\\dell\\anaconda3\\lib\\site-packages)\n",
      "WARNING: Ignoring invalid distribution -illow (c:\\users\\dell\\anaconda3\\lib\\site-packages)\n",
      "WARNING: Ignoring invalid distribution -illow (c:\\users\\dell\\anaconda3\\lib\\site-packages)\n",
      "WARNING: Ignoring invalid distribution -illow (c:\\users\\dell\\anaconda3\\lib\\site-packages)\n",
      "WARNING: Ignoring invalid distribution -illow (c:\\users\\dell\\anaconda3\\lib\\site-packages)\n",
      "WARNING: Ignoring invalid distribution -illow (c:\\users\\dell\\anaconda3\\lib\\site-packages)\n",
      "WARNING: Ignoring invalid distribution -illow (c:\\users\\dell\\anaconda3\\lib\\site-packages)\n",
      "WARNING: Ignoring invalid distribution -illow (c:\\users\\dell\\anaconda3\\lib\\site-packages)\n",
      "WARNING: Ignoring invalid distribution -illow (c:\\users\\dell\\anaconda3\\lib\\site-packages)\n",
      "WARNING: Ignoring invalid distribution -illow (c:\\users\\dell\\anaconda3\\lib\\site-packages)\n",
      "WARNING: Ignoring invalid distribution -illow (c:\\users\\dell\\anaconda3\\lib\\site-packages)\n",
      "WARNING: Ignoring invalid distribution -illow (c:\\users\\dell\\anaconda3\\lib\\site-packages)\n",
      "WARNING: Ignoring invalid distribution -illow (c:\\users\\dell\\anaconda3\\lib\\site-packages)\n",
      "WARNING: Ignoring invalid distribution -illow (c:\\users\\dell\\anaconda3\\lib\\site-packages)\n",
      "WARNING: Ignoring invalid distribution -illow (c:\\users\\dell\\anaconda3\\lib\\site-packages)\n",
      "WARNING: Ignoring invalid distribution -illow (c:\\users\\dell\\anaconda3\\lib\\site-packages)\n",
      "WARNING: Ignoring invalid distribution -illow (c:\\users\\dell\\anaconda3\\lib\\site-packages)\n"
     ]
    }
   ],
   "source": [
    "!pip install tensorflow"
   ]
  },
  {
   "cell_type": "code",
   "execution_count": 33,
   "id": "2b870717",
   "metadata": {
    "scrolled": false
   },
   "outputs": [],
   "source": [
    "import tensorflow as tf"
   ]
  },
  {
   "cell_type": "code",
   "execution_count": 35,
   "id": "fff3cf86",
   "metadata": {},
   "outputs": [
    {
     "name": "stdout",
     "output_type": "stream",
     "text": [
      "Note: you may need to restart the kernel to use updated packages.\n"
     ]
    },
    {
     "name": "stderr",
     "output_type": "stream",
     "text": [
      "'\"C:\\Users\\Dell\\anaconda3\\python.exe\"' is not recognized as an internal or external command,\n",
      "operable program or batch file.\n"
     ]
    }
   ],
   "source": [
    "pip install keras"
   ]
  },
  {
   "cell_type": "code",
   "execution_count": 18,
   "id": "2b98a642",
   "metadata": {},
   "outputs": [],
   "source": [
    "# pip install tensorflow"
   ]
  },
  {
   "cell_type": "code",
   "execution_count": 19,
   "id": "9d40a517",
   "metadata": {},
   "outputs": [],
   "source": [
    "# pip install --upgrade numpy"
   ]
  },
  {
   "cell_type": "code",
   "execution_count": 36,
   "id": "c2cd0c64",
   "metadata": {},
   "outputs": [],
   "source": [
    "from keras.models import Sequential\n",
    "from keras.layers import Dense, Dropout"
   ]
  },
  {
   "cell_type": "code",
   "execution_count": 37,
   "id": "ddc58a4e",
   "metadata": {},
   "outputs": [],
   "source": [
    "classifier = Sequential()"
   ]
  },
  {
   "cell_type": "code",
   "execution_count": 38,
   "id": "94a539d3",
   "metadata": {},
   "outputs": [],
   "source": [
    "classifier.add(Dense(6, activation = 'relu', input_shape = (X_train.shape[1], )))\n",
    "classifier.add(Dropout(rate = 0.1))"
   ]
  },
  {
   "cell_type": "code",
   "execution_count": 39,
   "id": "885f211a",
   "metadata": {},
   "outputs": [],
   "source": [
    "classifier.add(Dense(6, activation = 'relu'))\n",
    "classifier.add(Dropout(rate = 0.1))"
   ]
  },
  {
   "cell_type": "code",
   "execution_count": 40,
   "id": "757e968a",
   "metadata": {},
   "outputs": [],
   "source": [
    "classifier.add(Dense(1, activation = 'sigmoid'))"
   ]
  },
  {
   "cell_type": "code",
   "execution_count": 41,
   "id": "d59ad317",
   "metadata": {},
   "outputs": [
    {
     "name": "stdout",
     "output_type": "stream",
     "text": [
      "Model: \"sequential\"\n",
      "_________________________________________________________________\n",
      " Layer (type)                Output Shape              Param #   \n",
      "=================================================================\n",
      " dense (Dense)               (None, 6)                 72        \n",
      "                                                                 \n",
      " dropout (Dropout)           (None, 6)                 0         \n",
      "                                                                 \n",
      " dense_1 (Dense)             (None, 6)                 42        \n",
      "                                                                 \n",
      " dropout_1 (Dropout)         (None, 6)                 0         \n",
      "                                                                 \n",
      " dense_2 (Dense)             (None, 1)                 7         \n",
      "                                                                 \n",
      "=================================================================\n",
      "Total params: 121 (484.00 Byte)\n",
      "Trainable params: 121 (484.00 Byte)\n",
      "Non-trainable params: 0 (0.00 Byte)\n",
      "_________________________________________________________________\n"
     ]
    }
   ],
   "source": [
    "classifier.summary()"
   ]
  },
  {
   "cell_type": "code",
   "execution_count": 42,
   "id": "5dc067c9",
   "metadata": {},
   "outputs": [],
   "source": [
    "classifier.compile(optimizer = 'adam', loss = 'binary_crossentropy', metrics = ['accuracy'])"
   ]
  },
  {
   "cell_type": "code",
   "execution_count": 43,
   "id": "c61ce2dc",
   "metadata": {},
   "outputs": [
    {
     "name": "stdout",
     "output_type": "stream",
     "text": [
      "Epoch 1/100\n",
      "225/225 - 2s - loss: 0.5738 - accuracy: 0.7646 - val_loss: 0.5063 - val_accuracy: 0.7950 - 2s/epoch - 11ms/step\n",
      "Epoch 2/100\n",
      "225/225 - 1s - loss: 0.4975 - accuracy: 0.7951 - val_loss: 0.4578 - val_accuracy: 0.7950 - 723ms/epoch - 3ms/step\n",
      "Epoch 3/100\n",
      "225/225 - 1s - loss: 0.4672 - accuracy: 0.7962 - val_loss: 0.4351 - val_accuracy: 0.8000 - 701ms/epoch - 3ms/step\n",
      "Epoch 4/100\n",
      "225/225 - 0s - loss: 0.4524 - accuracy: 0.8024 - val_loss: 0.4223 - val_accuracy: 0.8100 - 489ms/epoch - 2ms/step\n",
      "Epoch 5/100\n",
      "225/225 - 1s - loss: 0.4414 - accuracy: 0.8096 - val_loss: 0.4132 - val_accuracy: 0.8238 - 641ms/epoch - 3ms/step\n",
      "Epoch 6/100\n",
      "225/225 - 1s - loss: 0.4358 - accuracy: 0.8112 - val_loss: 0.4055 - val_accuracy: 0.8263 - 713ms/epoch - 3ms/step\n",
      "Epoch 7/100\n",
      "225/225 - 1s - loss: 0.4308 - accuracy: 0.8147 - val_loss: 0.3996 - val_accuracy: 0.8313 - 619ms/epoch - 3ms/step\n",
      "Epoch 8/100\n",
      "225/225 - 0s - loss: 0.4244 - accuracy: 0.8160 - val_loss: 0.3938 - val_accuracy: 0.8450 - 429ms/epoch - 2ms/step\n",
      "Epoch 9/100\n",
      "225/225 - 1s - loss: 0.4278 - accuracy: 0.8164 - val_loss: 0.3908 - val_accuracy: 0.8425 - 650ms/epoch - 3ms/step\n",
      "Epoch 10/100\n",
      "225/225 - 1s - loss: 0.4207 - accuracy: 0.8199 - val_loss: 0.3862 - val_accuracy: 0.8475 - 684ms/epoch - 3ms/step\n",
      "Epoch 11/100\n",
      "225/225 - 1s - loss: 0.4191 - accuracy: 0.8192 - val_loss: 0.3822 - val_accuracy: 0.8425 - 631ms/epoch - 3ms/step\n",
      "Epoch 12/100\n",
      "225/225 - 1s - loss: 0.4168 - accuracy: 0.8190 - val_loss: 0.3801 - val_accuracy: 0.8413 - 617ms/epoch - 3ms/step\n",
      "Epoch 13/100\n",
      "225/225 - 1s - loss: 0.4179 - accuracy: 0.8181 - val_loss: 0.3788 - val_accuracy: 0.8475 - 642ms/epoch - 3ms/step\n",
      "Epoch 14/100\n",
      "225/225 - 1s - loss: 0.4148 - accuracy: 0.8243 - val_loss: 0.3758 - val_accuracy: 0.8450 - 588ms/epoch - 3ms/step\n",
      "Epoch 15/100\n",
      "225/225 - 1s - loss: 0.4136 - accuracy: 0.8201 - val_loss: 0.3737 - val_accuracy: 0.8450 - 723ms/epoch - 3ms/step\n",
      "Epoch 16/100\n",
      "225/225 - 1s - loss: 0.4133 - accuracy: 0.8174 - val_loss: 0.3718 - val_accuracy: 0.8462 - 519ms/epoch - 2ms/step\n",
      "Epoch 17/100\n",
      "225/225 - 1s - loss: 0.4116 - accuracy: 0.8181 - val_loss: 0.3697 - val_accuracy: 0.8462 - 595ms/epoch - 3ms/step\n",
      "Epoch 18/100\n",
      "225/225 - 1s - loss: 0.4094 - accuracy: 0.8194 - val_loss: 0.3680 - val_accuracy: 0.8438 - 541ms/epoch - 2ms/step\n",
      "Epoch 19/100\n",
      "225/225 - 1s - loss: 0.4091 - accuracy: 0.8235 - val_loss: 0.3672 - val_accuracy: 0.8475 - 664ms/epoch - 3ms/step\n",
      "Epoch 20/100\n",
      "225/225 - 1s - loss: 0.4073 - accuracy: 0.8244 - val_loss: 0.3658 - val_accuracy: 0.8462 - 622ms/epoch - 3ms/step\n",
      "Epoch 21/100\n",
      "225/225 - 1s - loss: 0.4064 - accuracy: 0.8235 - val_loss: 0.3636 - val_accuracy: 0.8475 - 559ms/epoch - 2ms/step\n",
      "Epoch 22/100\n",
      "225/225 - 1s - loss: 0.4029 - accuracy: 0.8238 - val_loss: 0.3627 - val_accuracy: 0.8462 - 658ms/epoch - 3ms/step\n",
      "Epoch 23/100\n",
      "225/225 - 1s - loss: 0.4008 - accuracy: 0.8294 - val_loss: 0.3599 - val_accuracy: 0.8487 - 619ms/epoch - 3ms/step\n",
      "Epoch 24/100\n",
      "225/225 - 1s - loss: 0.4015 - accuracy: 0.8290 - val_loss: 0.3575 - val_accuracy: 0.8500 - 546ms/epoch - 2ms/step\n",
      "Epoch 25/100\n",
      "225/225 - 1s - loss: 0.4019 - accuracy: 0.8297 - val_loss: 0.3562 - val_accuracy: 0.8575 - 586ms/epoch - 3ms/step\n",
      "Epoch 26/100\n",
      "225/225 - 1s - loss: 0.4014 - accuracy: 0.8283 - val_loss: 0.3563 - val_accuracy: 0.8512 - 570ms/epoch - 3ms/step\n",
      "Epoch 27/100\n",
      "225/225 - 1s - loss: 0.3996 - accuracy: 0.8294 - val_loss: 0.3563 - val_accuracy: 0.8487 - 516ms/epoch - 2ms/step\n",
      "Epoch 28/100\n",
      "225/225 - 1s - loss: 0.4010 - accuracy: 0.8318 - val_loss: 0.3557 - val_accuracy: 0.8575 - 539ms/epoch - 2ms/step\n",
      "Epoch 29/100\n",
      "225/225 - 1s - loss: 0.3979 - accuracy: 0.8319 - val_loss: 0.3539 - val_accuracy: 0.8600 - 517ms/epoch - 2ms/step\n",
      "Epoch 30/100\n",
      "225/225 - 0s - loss: 0.3960 - accuracy: 0.8329 - val_loss: 0.3529 - val_accuracy: 0.8550 - 495ms/epoch - 2ms/step\n",
      "Epoch 31/100\n",
      "225/225 - 1s - loss: 0.3969 - accuracy: 0.8311 - val_loss: 0.3536 - val_accuracy: 0.8500 - 534ms/epoch - 2ms/step\n",
      "Epoch 32/100\n",
      "225/225 - 1s - loss: 0.3970 - accuracy: 0.8367 - val_loss: 0.3519 - val_accuracy: 0.8550 - 668ms/epoch - 3ms/step\n",
      "Epoch 33/100\n",
      "225/225 - 0s - loss: 0.3983 - accuracy: 0.8285 - val_loss: 0.3520 - val_accuracy: 0.8525 - 466ms/epoch - 2ms/step\n",
      "Epoch 34/100\n",
      "225/225 - 1s - loss: 0.4008 - accuracy: 0.8319 - val_loss: 0.3500 - val_accuracy: 0.8550 - 681ms/epoch - 3ms/step\n",
      "Epoch 35/100\n",
      "225/225 - 1s - loss: 0.3968 - accuracy: 0.8317 - val_loss: 0.3494 - val_accuracy: 0.8525 - 646ms/epoch - 3ms/step\n",
      "Epoch 36/100\n",
      "225/225 - 1s - loss: 0.3901 - accuracy: 0.8358 - val_loss: 0.3471 - val_accuracy: 0.8587 - 509ms/epoch - 2ms/step\n",
      "Epoch 37/100\n",
      "225/225 - 1s - loss: 0.3879 - accuracy: 0.8357 - val_loss: 0.3460 - val_accuracy: 0.8587 - 549ms/epoch - 2ms/step\n",
      "Epoch 38/100\n",
      "225/225 - 1s - loss: 0.3918 - accuracy: 0.8336 - val_loss: 0.3462 - val_accuracy: 0.8525 - 697ms/epoch - 3ms/step\n",
      "Epoch 39/100\n",
      "225/225 - 1s - loss: 0.3898 - accuracy: 0.8339 - val_loss: 0.3453 - val_accuracy: 0.8525 - 627ms/epoch - 3ms/step\n",
      "Epoch 40/100\n",
      "225/225 - 1s - loss: 0.3881 - accuracy: 0.8372 - val_loss: 0.3444 - val_accuracy: 0.8600 - 526ms/epoch - 2ms/step\n",
      "Epoch 41/100\n",
      "225/225 - 1s - loss: 0.3933 - accuracy: 0.8329 - val_loss: 0.3452 - val_accuracy: 0.8587 - 569ms/epoch - 3ms/step\n",
      "Epoch 42/100\n",
      "225/225 - 1s - loss: 0.3907 - accuracy: 0.8339 - val_loss: 0.3453 - val_accuracy: 0.8550 - 544ms/epoch - 2ms/step\n",
      "Epoch 43/100\n",
      "225/225 - 0s - loss: 0.3851 - accuracy: 0.8386 - val_loss: 0.3421 - val_accuracy: 0.8650 - 484ms/epoch - 2ms/step\n",
      "Epoch 44/100\n",
      "225/225 - 1s - loss: 0.3905 - accuracy: 0.8364 - val_loss: 0.3429 - val_accuracy: 0.8612 - 525ms/epoch - 2ms/step\n",
      "Epoch 45/100\n",
      "225/225 - 0s - loss: 0.3886 - accuracy: 0.8354 - val_loss: 0.3424 - val_accuracy: 0.8600 - 464ms/epoch - 2ms/step\n",
      "Epoch 46/100\n",
      "225/225 - 0s - loss: 0.3905 - accuracy: 0.8367 - val_loss: 0.3431 - val_accuracy: 0.8625 - 499ms/epoch - 2ms/step\n",
      "Epoch 47/100\n",
      "225/225 - 0s - loss: 0.3863 - accuracy: 0.8365 - val_loss: 0.3439 - val_accuracy: 0.8537 - 498ms/epoch - 2ms/step\n",
      "Epoch 48/100\n",
      "225/225 - 0s - loss: 0.3868 - accuracy: 0.8389 - val_loss: 0.3449 - val_accuracy: 0.8512 - 496ms/epoch - 2ms/step\n",
      "Epoch 49/100\n",
      "225/225 - 0s - loss: 0.3866 - accuracy: 0.8375 - val_loss: 0.3425 - val_accuracy: 0.8575 - 477ms/epoch - 2ms/step\n",
      "Epoch 50/100\n",
      "225/225 - 0s - loss: 0.3822 - accuracy: 0.8369 - val_loss: 0.3422 - val_accuracy: 0.8600 - 470ms/epoch - 2ms/step\n",
      "Epoch 51/100\n",
      "225/225 - 1s - loss: 0.3845 - accuracy: 0.8383 - val_loss: 0.3414 - val_accuracy: 0.8600 - 526ms/epoch - 2ms/step\n",
      "Epoch 52/100\n",
      "225/225 - 1s - loss: 0.3862 - accuracy: 0.8368 - val_loss: 0.3431 - val_accuracy: 0.8587 - 553ms/epoch - 2ms/step\n",
      "Epoch 53/100\n",
      "225/225 - 0s - loss: 0.3877 - accuracy: 0.8383 - val_loss: 0.3440 - val_accuracy: 0.8550 - 494ms/epoch - 2ms/step\n",
      "Epoch 54/100\n",
      "225/225 - 0s - loss: 0.3868 - accuracy: 0.8385 - val_loss: 0.3431 - val_accuracy: 0.8625 - 477ms/epoch - 2ms/step\n",
      "Epoch 55/100\n",
      "225/225 - 1s - loss: 0.3784 - accuracy: 0.8396 - val_loss: 0.3422 - val_accuracy: 0.8600 - 533ms/epoch - 2ms/step\n",
      "Epoch 56/100\n",
      "225/225 - 1s - loss: 0.3861 - accuracy: 0.8397 - val_loss: 0.3421 - val_accuracy: 0.8612 - 512ms/epoch - 2ms/step\n",
      "Epoch 57/100\n",
      "225/225 - 1s - loss: 0.3834 - accuracy: 0.8399 - val_loss: 0.3413 - val_accuracy: 0.8562 - 521ms/epoch - 2ms/step\n",
      "Epoch 58/100\n",
      "225/225 - 1s - loss: 0.3787 - accuracy: 0.8417 - val_loss: 0.3412 - val_accuracy: 0.8637 - 522ms/epoch - 2ms/step\n",
      "Epoch 59/100\n",
      "225/225 - 0s - loss: 0.3787 - accuracy: 0.8406 - val_loss: 0.3410 - val_accuracy: 0.8600 - 476ms/epoch - 2ms/step\n",
      "Epoch 60/100\n",
      "225/225 - 0s - loss: 0.3783 - accuracy: 0.8440 - val_loss: 0.3417 - val_accuracy: 0.8575 - 486ms/epoch - 2ms/step\n",
      "Epoch 61/100\n",
      "225/225 - 0s - loss: 0.3876 - accuracy: 0.8375 - val_loss: 0.3404 - val_accuracy: 0.8612 - 447ms/epoch - 2ms/step\n",
      "Epoch 62/100\n",
      "225/225 - 0s - loss: 0.3761 - accuracy: 0.8422 - val_loss: 0.3408 - val_accuracy: 0.8587 - 484ms/epoch - 2ms/step\n",
      "Epoch 63/100\n",
      "225/225 - 0s - loss: 0.3756 - accuracy: 0.8461 - val_loss: 0.3384 - val_accuracy: 0.8662 - 477ms/epoch - 2ms/step\n",
      "Epoch 64/100\n",
      "225/225 - 1s - loss: 0.3775 - accuracy: 0.8421 - val_loss: 0.3381 - val_accuracy: 0.8612 - 621ms/epoch - 3ms/step\n",
      "Epoch 65/100\n",
      "225/225 - 1s - loss: 0.3765 - accuracy: 0.8397 - val_loss: 0.3385 - val_accuracy: 0.8600 - 625ms/epoch - 3ms/step\n"
     ]
    },
    {
     "name": "stdout",
     "output_type": "stream",
     "text": [
      "Epoch 66/100\n",
      "225/225 - 1s - loss: 0.3705 - accuracy: 0.8487 - val_loss: 0.3351 - val_accuracy: 0.8662 - 636ms/epoch - 3ms/step\n",
      "Epoch 67/100\n",
      "225/225 - 1s - loss: 0.3739 - accuracy: 0.8447 - val_loss: 0.3348 - val_accuracy: 0.8637 - 687ms/epoch - 3ms/step\n",
      "Epoch 68/100\n",
      "225/225 - 1s - loss: 0.3782 - accuracy: 0.8407 - val_loss: 0.3383 - val_accuracy: 0.8637 - 600ms/epoch - 3ms/step\n",
      "Epoch 69/100\n",
      "225/225 - 1s - loss: 0.3758 - accuracy: 0.8425 - val_loss: 0.3374 - val_accuracy: 0.8650 - 610ms/epoch - 3ms/step\n",
      "Epoch 70/100\n",
      "225/225 - 1s - loss: 0.3730 - accuracy: 0.8442 - val_loss: 0.3353 - val_accuracy: 0.8650 - 720ms/epoch - 3ms/step\n",
      "Epoch 71/100\n",
      "225/225 - 1s - loss: 0.3751 - accuracy: 0.8440 - val_loss: 0.3347 - val_accuracy: 0.8700 - 751ms/epoch - 3ms/step\n",
      "Epoch 72/100\n",
      "225/225 - 1s - loss: 0.3690 - accuracy: 0.8457 - val_loss: 0.3334 - val_accuracy: 0.8650 - 587ms/epoch - 3ms/step\n",
      "Epoch 73/100\n",
      "225/225 - 1s - loss: 0.3716 - accuracy: 0.8467 - val_loss: 0.3336 - val_accuracy: 0.8662 - 698ms/epoch - 3ms/step\n",
      "Epoch 74/100\n",
      "225/225 - 1s - loss: 0.3701 - accuracy: 0.8453 - val_loss: 0.3324 - val_accuracy: 0.8662 - 622ms/epoch - 3ms/step\n",
      "Epoch 75/100\n",
      "225/225 - 1s - loss: 0.3701 - accuracy: 0.8467 - val_loss: 0.3332 - val_accuracy: 0.8687 - 610ms/epoch - 3ms/step\n",
      "Epoch 76/100\n",
      "225/225 - 1s - loss: 0.3753 - accuracy: 0.8444 - val_loss: 0.3359 - val_accuracy: 0.8650 - 576ms/epoch - 3ms/step\n",
      "Epoch 77/100\n",
      "225/225 - 1s - loss: 0.3668 - accuracy: 0.8457 - val_loss: 0.3331 - val_accuracy: 0.8650 - 735ms/epoch - 3ms/step\n",
      "Epoch 78/100\n",
      "225/225 - 1s - loss: 0.3696 - accuracy: 0.8485 - val_loss: 0.3345 - val_accuracy: 0.8650 - 633ms/epoch - 3ms/step\n",
      "Epoch 79/100\n",
      "225/225 - 1s - loss: 0.3677 - accuracy: 0.8479 - val_loss: 0.3332 - val_accuracy: 0.8712 - 692ms/epoch - 3ms/step\n",
      "Epoch 80/100\n",
      "225/225 - 1s - loss: 0.3709 - accuracy: 0.8474 - val_loss: 0.3345 - val_accuracy: 0.8700 - 652ms/epoch - 3ms/step\n",
      "Epoch 81/100\n",
      "225/225 - 1s - loss: 0.3663 - accuracy: 0.8460 - val_loss: 0.3331 - val_accuracy: 0.8700 - 607ms/epoch - 3ms/step\n",
      "Epoch 82/100\n",
      "225/225 - 1s - loss: 0.3672 - accuracy: 0.8492 - val_loss: 0.3353 - val_accuracy: 0.8650 - 671ms/epoch - 3ms/step\n",
      "Epoch 83/100\n",
      "225/225 - 1s - loss: 0.3691 - accuracy: 0.8486 - val_loss: 0.3332 - val_accuracy: 0.8687 - 678ms/epoch - 3ms/step\n",
      "Epoch 84/100\n",
      "225/225 - 1s - loss: 0.3687 - accuracy: 0.8485 - val_loss: 0.3334 - val_accuracy: 0.8662 - 546ms/epoch - 2ms/step\n",
      "Epoch 85/100\n",
      "225/225 - 1s - loss: 0.3671 - accuracy: 0.8494 - val_loss: 0.3310 - val_accuracy: 0.8712 - 666ms/epoch - 3ms/step\n",
      "Epoch 86/100\n",
      "225/225 - 1s - loss: 0.3652 - accuracy: 0.8482 - val_loss: 0.3307 - val_accuracy: 0.8712 - 665ms/epoch - 3ms/step\n",
      "Epoch 87/100\n",
      "225/225 - 1s - loss: 0.3686 - accuracy: 0.8493 - val_loss: 0.3323 - val_accuracy: 0.8687 - 653ms/epoch - 3ms/step\n",
      "Epoch 88/100\n",
      "225/225 - 1s - loss: 0.3694 - accuracy: 0.8471 - val_loss: 0.3322 - val_accuracy: 0.8687 - 610ms/epoch - 3ms/step\n",
      "Epoch 89/100\n",
      "225/225 - 1s - loss: 0.3656 - accuracy: 0.8489 - val_loss: 0.3327 - val_accuracy: 0.8675 - 732ms/epoch - 3ms/step\n",
      "Epoch 90/100\n",
      "225/225 - 1s - loss: 0.3715 - accuracy: 0.8439 - val_loss: 0.3337 - val_accuracy: 0.8650 - 703ms/epoch - 3ms/step\n",
      "Epoch 91/100\n",
      "225/225 - 1s - loss: 0.3711 - accuracy: 0.8456 - val_loss: 0.3324 - val_accuracy: 0.8687 - 574ms/epoch - 3ms/step\n",
      "Epoch 92/100\n",
      "225/225 - 1s - loss: 0.3656 - accuracy: 0.8497 - val_loss: 0.3324 - val_accuracy: 0.8675 - 729ms/epoch - 3ms/step\n",
      "Epoch 93/100\n",
      "225/225 - 1s - loss: 0.3702 - accuracy: 0.8469 - val_loss: 0.3316 - val_accuracy: 0.8700 - 726ms/epoch - 3ms/step\n",
      "Epoch 94/100\n",
      "225/225 - 1s - loss: 0.3674 - accuracy: 0.8476 - val_loss: 0.3322 - val_accuracy: 0.8687 - 643ms/epoch - 3ms/step\n",
      "Epoch 95/100\n",
      "225/225 - 1s - loss: 0.3667 - accuracy: 0.8465 - val_loss: 0.3322 - val_accuracy: 0.8687 - 666ms/epoch - 3ms/step\n",
      "Epoch 96/100\n",
      "225/225 - 1s - loss: 0.3626 - accuracy: 0.8465 - val_loss: 0.3310 - val_accuracy: 0.8675 - 695ms/epoch - 3ms/step\n",
      "Epoch 97/100\n",
      "225/225 - 1s - loss: 0.3690 - accuracy: 0.8443 - val_loss: 0.3327 - val_accuracy: 0.8675 - 563ms/epoch - 3ms/step\n",
      "Epoch 98/100\n",
      "225/225 - 1s - loss: 0.3673 - accuracy: 0.8457 - val_loss: 0.3328 - val_accuracy: 0.8687 - 603ms/epoch - 3ms/step\n",
      "Epoch 99/100\n",
      "225/225 - 1s - loss: 0.3684 - accuracy: 0.8439 - val_loss: 0.3340 - val_accuracy: 0.8675 - 543ms/epoch - 2ms/step\n",
      "Epoch 100/100\n",
      "225/225 - 1s - loss: 0.3672 - accuracy: 0.8490 - val_loss: 0.3325 - val_accuracy: 0.8675 - 711ms/epoch - 3ms/step\n"
     ]
    }
   ],
   "source": [
    "history = classifier.fit(X_train, y_train, batch_size = 32, epochs = 100, validation_split = 0.1, verbose = 2)"
   ]
  },
  {
   "cell_type": "code",
   "execution_count": 44,
   "id": "355f556b",
   "metadata": {},
   "outputs": [
    {
     "name": "stdout",
     "output_type": "stream",
     "text": [
      "63/63 [==============================] - 0s 2ms/step\n",
      "[[0.28942356]\n",
      " [0.33081177]\n",
      " [0.20625655]\n",
      " [0.08599792]\n",
      " [0.11825153]]\n"
     ]
    }
   ],
   "source": [
    "y_pred = classifier.predict(X_test)\n",
    "print(y_pred[:5])"
   ]
  },
  {
   "cell_type": "code",
   "execution_count": 45,
   "id": "b7124505",
   "metadata": {},
   "outputs": [
    {
     "name": "stdout",
     "output_type": "stream",
     "text": [
      "[[0]\n",
      " [0]\n",
      " [0]\n",
      " [0]\n",
      " [0]]\n"
     ]
    }
   ],
   "source": [
    "y_pred = (y_pred > 0.5).astype(int)\n",
    "print(y_pred[:5])"
   ]
  },
  {
   "cell_type": "code",
   "execution_count": 46,
   "id": "d0246fc3",
   "metadata": {},
   "outputs": [
    {
     "name": "stdout",
     "output_type": "stream",
     "text": [
      "[[1530   65]\n",
      " [ 211  194]]\n"
     ]
    }
   ],
   "source": [
    "from sklearn.metrics import confusion_matrix\n",
    "cm = confusion_matrix(y_test, y_pred)\n",
    "print(cm)"
   ]
  },
  {
   "cell_type": "code",
   "execution_count": 47,
   "id": "9ae30e93",
   "metadata": {},
   "outputs": [
    {
     "name": "stdout",
     "output_type": "stream",
     "text": [
      "86.2 % of data was classified correctly\n"
     ]
    }
   ],
   "source": [
    "print(((cm[0][0] + cm[1][1])* 100) / len(y_test), '% of data was classified correctly')"
   ]
  },
  {
   "cell_type": "code",
   "execution_count": null,
   "id": "1d46762f",
   "metadata": {},
   "outputs": [],
   "source": []
  }
 ],
 "metadata": {
  "kernelspec": {
   "display_name": "Python 3 (ipykernel)",
   "language": "python",
   "name": "python3"
  },
  "language_info": {
   "codemirror_mode": {
    "name": "ipython",
    "version": 3
   },
   "file_extension": ".py",
   "mimetype": "text/x-python",
   "name": "python",
   "nbconvert_exporter": "python",
   "pygments_lexer": "ipython3",
   "version": "3.9.13"
  }
 },
 "nbformat": 4,
 "nbformat_minor": 5
}
