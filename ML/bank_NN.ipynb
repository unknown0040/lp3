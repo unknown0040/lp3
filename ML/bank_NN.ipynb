{
 "cells": [
  {
   "cell_type": "code",
   "execution_count": 1,
   "id": "7e297fa4",
   "metadata": {},
   "outputs": [
    {
     "name": "stderr",
     "output_type": "stream",
     "text": [
      "C:\\Users\\hp\\anaconda3\\lib\\site-packages\\scipy\\__init__.py:138: UserWarning: A NumPy version >=1.16.5 and <1.23.0 is required for this version of SciPy (detected version 1.24.4)\n",
      "  warnings.warn(f\"A NumPy version >={np_minversion} and <{np_maxversion} is required for this version of \"\n"
     ]
    }
   ],
   "source": [
    "import numpy as np\n",
    "import pandas as pd\n",
    "import matplotlib.pyplot as plt\n",
    "import seaborn as sns\n",
    "sns.set()"
   ]
  },
  {
   "cell_type": "code",
   "execution_count": 2,
   "id": "70843bf0",
   "metadata": {},
   "outputs": [],
   "source": [
    "df = pd.read_csv(\"Churn_Modelling.csv\")"
   ]
  },
  {
   "cell_type": "code",
   "execution_count": 3,
   "id": "4dfc5db3",
   "metadata": {},
   "outputs": [
    {
     "data": {
      "text/html": [
       "<div>\n",
       "<style scoped>\n",
       "    .dataframe tbody tr th:only-of-type {\n",
       "        vertical-align: middle;\n",
       "    }\n",
       "\n",
       "    .dataframe tbody tr th {\n",
       "        vertical-align: top;\n",
       "    }\n",
       "\n",
       "    .dataframe thead th {\n",
       "        text-align: right;\n",
       "    }\n",
       "</style>\n",
       "<table border=\"1\" class=\"dataframe\">\n",
       "  <thead>\n",
       "    <tr style=\"text-align: right;\">\n",
       "      <th></th>\n",
       "      <th>RowNumber</th>\n",
       "      <th>CustomerId</th>\n",
       "      <th>Surname</th>\n",
       "      <th>CreditScore</th>\n",
       "      <th>Geography</th>\n",
       "      <th>Gender</th>\n",
       "      <th>Age</th>\n",
       "      <th>Tenure</th>\n",
       "      <th>Balance</th>\n",
       "      <th>NumOfProducts</th>\n",
       "      <th>HasCrCard</th>\n",
       "      <th>IsActiveMember</th>\n",
       "      <th>EstimatedSalary</th>\n",
       "      <th>Exited</th>\n",
       "    </tr>\n",
       "  </thead>\n",
       "  <tbody>\n",
       "    <tr>\n",
       "      <th>0</th>\n",
       "      <td>1</td>\n",
       "      <td>15634602</td>\n",
       "      <td>Hargrave</td>\n",
       "      <td>619</td>\n",
       "      <td>France</td>\n",
       "      <td>Female</td>\n",
       "      <td>42</td>\n",
       "      <td>2</td>\n",
       "      <td>0.00</td>\n",
       "      <td>1</td>\n",
       "      <td>1</td>\n",
       "      <td>1</td>\n",
       "      <td>101348.88</td>\n",
       "      <td>1</td>\n",
       "    </tr>\n",
       "    <tr>\n",
       "      <th>1</th>\n",
       "      <td>2</td>\n",
       "      <td>15647311</td>\n",
       "      <td>Hill</td>\n",
       "      <td>608</td>\n",
       "      <td>Spain</td>\n",
       "      <td>Female</td>\n",
       "      <td>41</td>\n",
       "      <td>1</td>\n",
       "      <td>83807.86</td>\n",
       "      <td>1</td>\n",
       "      <td>0</td>\n",
       "      <td>1</td>\n",
       "      <td>112542.58</td>\n",
       "      <td>0</td>\n",
       "    </tr>\n",
       "    <tr>\n",
       "      <th>2</th>\n",
       "      <td>3</td>\n",
       "      <td>15619304</td>\n",
       "      <td>Onio</td>\n",
       "      <td>502</td>\n",
       "      <td>France</td>\n",
       "      <td>Female</td>\n",
       "      <td>42</td>\n",
       "      <td>8</td>\n",
       "      <td>159660.80</td>\n",
       "      <td>3</td>\n",
       "      <td>1</td>\n",
       "      <td>0</td>\n",
       "      <td>113931.57</td>\n",
       "      <td>1</td>\n",
       "    </tr>\n",
       "    <tr>\n",
       "      <th>3</th>\n",
       "      <td>4</td>\n",
       "      <td>15701354</td>\n",
       "      <td>Boni</td>\n",
       "      <td>699</td>\n",
       "      <td>France</td>\n",
       "      <td>Female</td>\n",
       "      <td>39</td>\n",
       "      <td>1</td>\n",
       "      <td>0.00</td>\n",
       "      <td>2</td>\n",
       "      <td>0</td>\n",
       "      <td>0</td>\n",
       "      <td>93826.63</td>\n",
       "      <td>0</td>\n",
       "    </tr>\n",
       "    <tr>\n",
       "      <th>4</th>\n",
       "      <td>5</td>\n",
       "      <td>15737888</td>\n",
       "      <td>Mitchell</td>\n",
       "      <td>850</td>\n",
       "      <td>Spain</td>\n",
       "      <td>Female</td>\n",
       "      <td>43</td>\n",
       "      <td>2</td>\n",
       "      <td>125510.82</td>\n",
       "      <td>1</td>\n",
       "      <td>1</td>\n",
       "      <td>1</td>\n",
       "      <td>79084.10</td>\n",
       "      <td>0</td>\n",
       "    </tr>\n",
       "    <tr>\n",
       "      <th>...</th>\n",
       "      <td>...</td>\n",
       "      <td>...</td>\n",
       "      <td>...</td>\n",
       "      <td>...</td>\n",
       "      <td>...</td>\n",
       "      <td>...</td>\n",
       "      <td>...</td>\n",
       "      <td>...</td>\n",
       "      <td>...</td>\n",
       "      <td>...</td>\n",
       "      <td>...</td>\n",
       "      <td>...</td>\n",
       "      <td>...</td>\n",
       "      <td>...</td>\n",
       "    </tr>\n",
       "    <tr>\n",
       "      <th>9995</th>\n",
       "      <td>9996</td>\n",
       "      <td>15606229</td>\n",
       "      <td>Obijiaku</td>\n",
       "      <td>771</td>\n",
       "      <td>France</td>\n",
       "      <td>Male</td>\n",
       "      <td>39</td>\n",
       "      <td>5</td>\n",
       "      <td>0.00</td>\n",
       "      <td>2</td>\n",
       "      <td>1</td>\n",
       "      <td>0</td>\n",
       "      <td>96270.64</td>\n",
       "      <td>0</td>\n",
       "    </tr>\n",
       "    <tr>\n",
       "      <th>9996</th>\n",
       "      <td>9997</td>\n",
       "      <td>15569892</td>\n",
       "      <td>Johnstone</td>\n",
       "      <td>516</td>\n",
       "      <td>France</td>\n",
       "      <td>Male</td>\n",
       "      <td>35</td>\n",
       "      <td>10</td>\n",
       "      <td>57369.61</td>\n",
       "      <td>1</td>\n",
       "      <td>1</td>\n",
       "      <td>1</td>\n",
       "      <td>101699.77</td>\n",
       "      <td>0</td>\n",
       "    </tr>\n",
       "    <tr>\n",
       "      <th>9997</th>\n",
       "      <td>9998</td>\n",
       "      <td>15584532</td>\n",
       "      <td>Liu</td>\n",
       "      <td>709</td>\n",
       "      <td>France</td>\n",
       "      <td>Female</td>\n",
       "      <td>36</td>\n",
       "      <td>7</td>\n",
       "      <td>0.00</td>\n",
       "      <td>1</td>\n",
       "      <td>0</td>\n",
       "      <td>1</td>\n",
       "      <td>42085.58</td>\n",
       "      <td>1</td>\n",
       "    </tr>\n",
       "    <tr>\n",
       "      <th>9998</th>\n",
       "      <td>9999</td>\n",
       "      <td>15682355</td>\n",
       "      <td>Sabbatini</td>\n",
       "      <td>772</td>\n",
       "      <td>Germany</td>\n",
       "      <td>Male</td>\n",
       "      <td>42</td>\n",
       "      <td>3</td>\n",
       "      <td>75075.31</td>\n",
       "      <td>2</td>\n",
       "      <td>1</td>\n",
       "      <td>0</td>\n",
       "      <td>92888.52</td>\n",
       "      <td>1</td>\n",
       "    </tr>\n",
       "    <tr>\n",
       "      <th>9999</th>\n",
       "      <td>10000</td>\n",
       "      <td>15628319</td>\n",
       "      <td>Walker</td>\n",
       "      <td>792</td>\n",
       "      <td>France</td>\n",
       "      <td>Female</td>\n",
       "      <td>28</td>\n",
       "      <td>4</td>\n",
       "      <td>130142.79</td>\n",
       "      <td>1</td>\n",
       "      <td>1</td>\n",
       "      <td>0</td>\n",
       "      <td>38190.78</td>\n",
       "      <td>0</td>\n",
       "    </tr>\n",
       "  </tbody>\n",
       "</table>\n",
       "<p>10000 rows × 14 columns</p>\n",
       "</div>"
      ],
      "text/plain": [
       "      RowNumber  CustomerId    Surname  CreditScore Geography  Gender  Age  \\\n",
       "0             1    15634602   Hargrave          619    France  Female   42   \n",
       "1             2    15647311       Hill          608     Spain  Female   41   \n",
       "2             3    15619304       Onio          502    France  Female   42   \n",
       "3             4    15701354       Boni          699    France  Female   39   \n",
       "4             5    15737888   Mitchell          850     Spain  Female   43   \n",
       "...         ...         ...        ...          ...       ...     ...  ...   \n",
       "9995       9996    15606229   Obijiaku          771    France    Male   39   \n",
       "9996       9997    15569892  Johnstone          516    France    Male   35   \n",
       "9997       9998    15584532        Liu          709    France  Female   36   \n",
       "9998       9999    15682355  Sabbatini          772   Germany    Male   42   \n",
       "9999      10000    15628319     Walker          792    France  Female   28   \n",
       "\n",
       "      Tenure    Balance  NumOfProducts  HasCrCard  IsActiveMember  \\\n",
       "0          2       0.00              1          1               1   \n",
       "1          1   83807.86              1          0               1   \n",
       "2          8  159660.80              3          1               0   \n",
       "3          1       0.00              2          0               0   \n",
       "4          2  125510.82              1          1               1   \n",
       "...      ...        ...            ...        ...             ...   \n",
       "9995       5       0.00              2          1               0   \n",
       "9996      10   57369.61              1          1               1   \n",
       "9997       7       0.00              1          0               1   \n",
       "9998       3   75075.31              2          1               0   \n",
       "9999       4  130142.79              1          1               0   \n",
       "\n",
       "      EstimatedSalary  Exited  \n",
       "0           101348.88       1  \n",
       "1           112542.58       0  \n",
       "2           113931.57       1  \n",
       "3            93826.63       0  \n",
       "4            79084.10       0  \n",
       "...               ...     ...  \n",
       "9995         96270.64       0  \n",
       "9996        101699.77       0  \n",
       "9997         42085.58       1  \n",
       "9998         92888.52       1  \n",
       "9999         38190.78       0  \n",
       "\n",
       "[10000 rows x 14 columns]"
      ]
     },
     "execution_count": 3,
     "metadata": {},
     "output_type": "execute_result"
    }
   ],
   "source": [
    "df"
   ]
  },
  {
   "cell_type": "code",
   "execution_count": 4,
   "id": "3062ae0d",
   "metadata": {},
   "outputs": [
    {
     "data": {
      "text/plain": [
       "RowNumber          0\n",
       "CustomerId         0\n",
       "Surname            0\n",
       "CreditScore        0\n",
       "Geography          0\n",
       "Gender             0\n",
       "Age                0\n",
       "Tenure             0\n",
       "Balance            0\n",
       "NumOfProducts      0\n",
       "HasCrCard          0\n",
       "IsActiveMember     0\n",
       "EstimatedSalary    0\n",
       "Exited             0\n",
       "dtype: int64"
      ]
     },
     "execution_count": 4,
     "metadata": {},
     "output_type": "execute_result"
    }
   ],
   "source": [
    "df.isnull().sum()"
   ]
  },
  {
   "cell_type": "code",
   "execution_count": 5,
   "id": "e3538a1d",
   "metadata": {},
   "outputs": [
    {
     "data": {
      "text/plain": [
       "RowNumber            int64\n",
       "CustomerId           int64\n",
       "Surname             object\n",
       "CreditScore          int64\n",
       "Geography           object\n",
       "Gender              object\n",
       "Age                  int64\n",
       "Tenure               int64\n",
       "Balance            float64\n",
       "NumOfProducts        int64\n",
       "HasCrCard            int64\n",
       "IsActiveMember       int64\n",
       "EstimatedSalary    float64\n",
       "Exited               int64\n",
       "dtype: object"
      ]
     },
     "execution_count": 5,
     "metadata": {},
     "output_type": "execute_result"
    }
   ],
   "source": [
    "df.dtypes"
   ]
  },
  {
   "cell_type": "code",
   "execution_count": 6,
   "id": "2b3eee0d",
   "metadata": {},
   "outputs": [
    {
     "name": "stdout",
     "output_type": "stream",
     "text": [
      "['CreditScore', 'Geography', 'Gender', 'Age', 'Tenure', 'Balance', 'NumOfProducts', 'HasCrCard', 'IsActiveMember', 'EstimatedSalary']\n",
      "['Exited']\n"
     ]
    }
   ],
   "source": [
    "x_columns = df.columns.tolist()[3:13]\n",
    "y_columns = df.columns.tolist()[-1:]\n",
    "print(x_columns)\n",
    "print(y_columns)"
   ]
  },
  {
   "cell_type": "code",
   "execution_count": 7,
   "id": "c55b63ce",
   "metadata": {},
   "outputs": [
    {
     "name": "stdout",
     "output_type": "stream",
     "text": [
      "x =  [[619 'France' 'Female' ... 1 1 101348.88]\n",
      " [608 'Spain' 'Female' ... 0 1 112542.58]\n",
      " [502 'France' 'Female' ... 1 0 113931.57]\n",
      " ...\n",
      " [709 'France' 'Female' ... 0 1 42085.58]\n",
      " [772 'Germany' 'Male' ... 1 0 92888.52]\n",
      " [792 'France' 'Female' ... 1 0 38190.78]]\n",
      "y =  [[1]\n",
      " [0]\n",
      " [1]\n",
      " ...\n",
      " [1]\n",
      " [1]\n",
      " [0]]\n"
     ]
    }
   ],
   "source": [
    "x = df[x_columns].values\n",
    "y = df[y_columns].values\n",
    "print(\"x = \", x)\n",
    "print(\"y = \", y)"
   ]
  },
  {
   "cell_type": "code",
   "execution_count": 8,
   "id": "41ed4f70",
   "metadata": {},
   "outputs": [],
   "source": [
    "from sklearn.preprocessing import LabelEncoder\n",
    "x_column_transformer = LabelEncoder()\n",
    "x[:, 1] = x_column_transformer.fit_transform(x[:, 1])"
   ]
  },
  {
   "cell_type": "code",
   "execution_count": 9,
   "id": "7cf2b831",
   "metadata": {},
   "outputs": [],
   "source": [
    "x[:, 2] = x_column_transformer.fit_transform(x[:, 2])"
   ]
  },
  {
   "cell_type": "code",
   "execution_count": 10,
   "id": "792e651f",
   "metadata": {},
   "outputs": [],
   "source": [
    "from sklearn.preprocessing import StandardScaler, OneHotEncoder\n",
    "from sklearn.compose import ColumnTransformer\n",
    "from sklearn.pipeline import Pipeline\n",
    "\n",
    "pipeline = Pipeline(\n",
    "    [\n",
    "        ('Categorizer', ColumnTransformer(\n",
    "            [\n",
    "                (\"Gender Label Encoder\", OneHotEncoder(categories = 'auto', drop = 'first'), [2]),\n",
    "                (\"Geography Label Encoder\", OneHotEncoder(categories = 'auto', drop = 'first'), [1])\n",
    "            ], \n",
    "            remainder = 'passthrough', n_jobs = 1)),\n",
    "        ('Normalizer', StandardScaler())\n",
    "    ]\n",
    ")"
   ]
  },
  {
   "cell_type": "code",
   "execution_count": 11,
   "id": "881cfd99",
   "metadata": {},
   "outputs": [],
   "source": [
    "x = pipeline.fit_transform(x)"
   ]
  },
  {
   "cell_type": "code",
   "execution_count": 12,
   "id": "72ba241f",
   "metadata": {},
   "outputs": [],
   "source": [
    "from sklearn.model_selection import train_test_split\n",
    "X_train, X_test, y_train, y_test = train_test_split(x, y, test_size = 0.2, random_state = 0)"
   ]
  },
  {
   "cell_type": "code",
   "execution_count": 13,
   "id": "2b870717",
   "metadata": {
    "scrolled": false
   },
   "outputs": [],
   "source": [
    "import tensorflow as tf"
   ]
  },
  {
   "cell_type": "code",
   "execution_count": 14,
   "id": "fff3cf86",
   "metadata": {},
   "outputs": [],
   "source": [
    "# pip install keras"
   ]
  },
  {
   "cell_type": "code",
   "execution_count": 15,
   "id": "2b98a642",
   "metadata": {},
   "outputs": [],
   "source": [
    "# pip install tensorflow"
   ]
  },
  {
   "cell_type": "code",
   "execution_count": 16,
   "id": "9d40a517",
   "metadata": {},
   "outputs": [],
   "source": [
    "# pip install --upgrade numpy"
   ]
  },
  {
   "cell_type": "code",
   "execution_count": 17,
   "id": "c2cd0c64",
   "metadata": {},
   "outputs": [],
   "source": [
    "from keras.models import Sequential\n",
    "from keras.layers import Dense, Dropout"
   ]
  },
  {
   "cell_type": "code",
   "execution_count": 18,
   "id": "ddc58a4e",
   "metadata": {},
   "outputs": [],
   "source": [
    "classifier = Sequential()"
   ]
  },
  {
   "cell_type": "code",
   "execution_count": 19,
   "id": "94a539d3",
   "metadata": {},
   "outputs": [],
   "source": [
    "classifier.add(Dense(6, activation = 'relu', input_shape = (X_train.shape[1], )))\n",
    "classifier.add(Dropout(rate = 0.1))"
   ]
  },
  {
   "cell_type": "code",
   "execution_count": 20,
   "id": "885f211a",
   "metadata": {},
   "outputs": [],
   "source": [
    "classifier.add(Dense(6, activation = 'relu'))\n",
    "classifier.add(Dropout(rate = 0.1))"
   ]
  },
  {
   "cell_type": "code",
   "execution_count": 21,
   "id": "757e968a",
   "metadata": {},
   "outputs": [],
   "source": [
    "classifier.add(Dense(1, activation = 'sigmoid'))"
   ]
  },
  {
   "cell_type": "code",
   "execution_count": 22,
   "id": "d59ad317",
   "metadata": {},
   "outputs": [
    {
     "name": "stdout",
     "output_type": "stream",
     "text": [
      "Model: \"sequential\"\n",
      "_________________________________________________________________\n",
      " Layer (type)                Output Shape              Param #   \n",
      "=================================================================\n",
      " dense (Dense)               (None, 6)                 72        \n",
      "                                                                 \n",
      " dropout (Dropout)           (None, 6)                 0         \n",
      "                                                                 \n",
      " dense_1 (Dense)             (None, 6)                 42        \n",
      "                                                                 \n",
      " dropout_1 (Dropout)         (None, 6)                 0         \n",
      "                                                                 \n",
      " dense_2 (Dense)             (None, 1)                 7         \n",
      "                                                                 \n",
      "=================================================================\n",
      "Total params: 121 (484.00 Byte)\n",
      "Trainable params: 121 (484.00 Byte)\n",
      "Non-trainable params: 0 (0.00 Byte)\n",
      "_________________________________________________________________\n"
     ]
    }
   ],
   "source": [
    "classifier.summary()"
   ]
  },
  {
   "cell_type": "code",
   "execution_count": 23,
   "id": "5dc067c9",
   "metadata": {},
   "outputs": [],
   "source": [
    "classifier.compile(optimizer = 'adam', loss = 'binary_crossentropy', metrics = ['accuracy'])"
   ]
  },
  {
   "cell_type": "code",
   "execution_count": 25,
   "id": "c61ce2dc",
   "metadata": {},
   "outputs": [
    {
     "name": "stdout",
     "output_type": "stream",
     "text": [
      "Epoch 1/100\n",
      "225/225 - 1s - loss: 0.3983 - accuracy: 0.8415 - val_loss: 0.3568 - val_accuracy: 0.8612 - 570ms/epoch - 3ms/step\n",
      "Epoch 2/100\n",
      "225/225 - 1s - loss: 0.3941 - accuracy: 0.8440 - val_loss: 0.3554 - val_accuracy: 0.8612 - 571ms/epoch - 3ms/step\n",
      "Epoch 3/100\n",
      "225/225 - 1s - loss: 0.3942 - accuracy: 0.8453 - val_loss: 0.3537 - val_accuracy: 0.8575 - 580ms/epoch - 3ms/step\n",
      "Epoch 4/100\n",
      "225/225 - 1s - loss: 0.3923 - accuracy: 0.8492 - val_loss: 0.3526 - val_accuracy: 0.8662 - 592ms/epoch - 3ms/step\n",
      "Epoch 5/100\n",
      "225/225 - 1s - loss: 0.3920 - accuracy: 0.8458 - val_loss: 0.3500 - val_accuracy: 0.8675 - 603ms/epoch - 3ms/step\n",
      "Epoch 6/100\n",
      "225/225 - 1s - loss: 0.3929 - accuracy: 0.8440 - val_loss: 0.3498 - val_accuracy: 0.8662 - 684ms/epoch - 3ms/step\n",
      "Epoch 7/100\n",
      "225/225 - 1s - loss: 0.3904 - accuracy: 0.8456 - val_loss: 0.3487 - val_accuracy: 0.8650 - 607ms/epoch - 3ms/step\n",
      "Epoch 8/100\n",
      "225/225 - 1s - loss: 0.3879 - accuracy: 0.8479 - val_loss: 0.3488 - val_accuracy: 0.8625 - 598ms/epoch - 3ms/step\n",
      "Epoch 9/100\n",
      "225/225 - 1s - loss: 0.3930 - accuracy: 0.8443 - val_loss: 0.3479 - val_accuracy: 0.8625 - 536ms/epoch - 2ms/step\n",
      "Epoch 10/100\n",
      "225/225 - 1s - loss: 0.3908 - accuracy: 0.8469 - val_loss: 0.3485 - val_accuracy: 0.8637 - 564ms/epoch - 3ms/step\n",
      "Epoch 11/100\n",
      "225/225 - 1s - loss: 0.3921 - accuracy: 0.8435 - val_loss: 0.3472 - val_accuracy: 0.8625 - 607ms/epoch - 3ms/step\n",
      "Epoch 12/100\n",
      "225/225 - 1s - loss: 0.3931 - accuracy: 0.8486 - val_loss: 0.3480 - val_accuracy: 0.8637 - 589ms/epoch - 3ms/step\n",
      "Epoch 13/100\n",
      "225/225 - 1s - loss: 0.3874 - accuracy: 0.8464 - val_loss: 0.3476 - val_accuracy: 0.8600 - 583ms/epoch - 3ms/step\n",
      "Epoch 14/100\n",
      "225/225 - 1s - loss: 0.3884 - accuracy: 0.8494 - val_loss: 0.3472 - val_accuracy: 0.8612 - 579ms/epoch - 3ms/step\n",
      "Epoch 15/100\n",
      "225/225 - 1s - loss: 0.3848 - accuracy: 0.8471 - val_loss: 0.3451 - val_accuracy: 0.8612 - 578ms/epoch - 3ms/step\n",
      "Epoch 16/100\n",
      "225/225 - 1s - loss: 0.3878 - accuracy: 0.8481 - val_loss: 0.3455 - val_accuracy: 0.8637 - 606ms/epoch - 3ms/step\n",
      "Epoch 17/100\n",
      "225/225 - 1s - loss: 0.3891 - accuracy: 0.8487 - val_loss: 0.3442 - val_accuracy: 0.8637 - 593ms/epoch - 3ms/step\n",
      "Epoch 18/100\n",
      "225/225 - 1s - loss: 0.3881 - accuracy: 0.8500 - val_loss: 0.3448 - val_accuracy: 0.8650 - 580ms/epoch - 3ms/step\n",
      "Epoch 19/100\n",
      "225/225 - 1s - loss: 0.3842 - accuracy: 0.8446 - val_loss: 0.3441 - val_accuracy: 0.8675 - 568ms/epoch - 3ms/step\n",
      "Epoch 20/100\n",
      "225/225 - 1s - loss: 0.3878 - accuracy: 0.8481 - val_loss: 0.3436 - val_accuracy: 0.8675 - 575ms/epoch - 3ms/step\n",
      "Epoch 21/100\n",
      "225/225 - 1s - loss: 0.3826 - accuracy: 0.8490 - val_loss: 0.3427 - val_accuracy: 0.8712 - 583ms/epoch - 3ms/step\n",
      "Epoch 22/100\n",
      "225/225 - 1s - loss: 0.3814 - accuracy: 0.8476 - val_loss: 0.3409 - val_accuracy: 0.8700 - 573ms/epoch - 3ms/step\n",
      "Epoch 23/100\n",
      "225/225 - 1s - loss: 0.3847 - accuracy: 0.8464 - val_loss: 0.3411 - val_accuracy: 0.8662 - 583ms/epoch - 3ms/step\n",
      "Epoch 24/100\n",
      "225/225 - 1s - loss: 0.3842 - accuracy: 0.8489 - val_loss: 0.3408 - val_accuracy: 0.8662 - 578ms/epoch - 3ms/step\n",
      "Epoch 25/100\n",
      "225/225 - 1s - loss: 0.3833 - accuracy: 0.8475 - val_loss: 0.3420 - val_accuracy: 0.8675 - 612ms/epoch - 3ms/step\n",
      "Epoch 26/100\n",
      "225/225 - 1s - loss: 0.3832 - accuracy: 0.8478 - val_loss: 0.3400 - val_accuracy: 0.8687 - 599ms/epoch - 3ms/step\n",
      "Epoch 27/100\n",
      "225/225 - 1s - loss: 0.3898 - accuracy: 0.8460 - val_loss: 0.3400 - val_accuracy: 0.8687 - 579ms/epoch - 3ms/step\n",
      "Epoch 28/100\n",
      "225/225 - 1s - loss: 0.3818 - accuracy: 0.8512 - val_loss: 0.3393 - val_accuracy: 0.8700 - 591ms/epoch - 3ms/step\n",
      "Epoch 29/100\n",
      "225/225 - 1s - loss: 0.3770 - accuracy: 0.8504 - val_loss: 0.3378 - val_accuracy: 0.8662 - 644ms/epoch - 3ms/step\n",
      "Epoch 30/100\n",
      "225/225 - 1s - loss: 0.3778 - accuracy: 0.8506 - val_loss: 0.3370 - val_accuracy: 0.8750 - 619ms/epoch - 3ms/step\n",
      "Epoch 31/100\n",
      "225/225 - 1s - loss: 0.3789 - accuracy: 0.8526 - val_loss: 0.3378 - val_accuracy: 0.8737 - 590ms/epoch - 3ms/step\n",
      "Epoch 32/100\n",
      "225/225 - 1s - loss: 0.3815 - accuracy: 0.8493 - val_loss: 0.3379 - val_accuracy: 0.8700 - 571ms/epoch - 3ms/step\n",
      "Epoch 33/100\n",
      "225/225 - 1s - loss: 0.3797 - accuracy: 0.8540 - val_loss: 0.3370 - val_accuracy: 0.8737 - 593ms/epoch - 3ms/step\n",
      "Epoch 34/100\n",
      "225/225 - 1s - loss: 0.3744 - accuracy: 0.8481 - val_loss: 0.3345 - val_accuracy: 0.8750 - 586ms/epoch - 3ms/step\n",
      "Epoch 35/100\n",
      "225/225 - 1s - loss: 0.3785 - accuracy: 0.8492 - val_loss: 0.3338 - val_accuracy: 0.8737 - 574ms/epoch - 3ms/step\n",
      "Epoch 36/100\n",
      "225/225 - 1s - loss: 0.3764 - accuracy: 0.8476 - val_loss: 0.3328 - val_accuracy: 0.8750 - 592ms/epoch - 3ms/step\n",
      "Epoch 37/100\n",
      "225/225 - 1s - loss: 0.3766 - accuracy: 0.8460 - val_loss: 0.3324 - val_accuracy: 0.8775 - 582ms/epoch - 3ms/step\n",
      "Epoch 38/100\n",
      "225/225 - 1s - loss: 0.3719 - accuracy: 0.8460 - val_loss: 0.3324 - val_accuracy: 0.8687 - 571ms/epoch - 3ms/step\n",
      "Epoch 39/100\n",
      "225/225 - 1s - loss: 0.3777 - accuracy: 0.8425 - val_loss: 0.3328 - val_accuracy: 0.8700 - 565ms/epoch - 3ms/step\n",
      "Epoch 40/100\n",
      "225/225 - 1s - loss: 0.3717 - accuracy: 0.8464 - val_loss: 0.3314 - val_accuracy: 0.8737 - 591ms/epoch - 3ms/step\n",
      "Epoch 41/100\n",
      "225/225 - 1s - loss: 0.3702 - accuracy: 0.8492 - val_loss: 0.3309 - val_accuracy: 0.8763 - 582ms/epoch - 3ms/step\n",
      "Epoch 42/100\n",
      "225/225 - 1s - loss: 0.3719 - accuracy: 0.8460 - val_loss: 0.3324 - val_accuracy: 0.8725 - 584ms/epoch - 3ms/step\n",
      "Epoch 43/100\n",
      "225/225 - 1s - loss: 0.3774 - accuracy: 0.8468 - val_loss: 0.3340 - val_accuracy: 0.8750 - 602ms/epoch - 3ms/step\n",
      "Epoch 44/100\n",
      "225/225 - 1s - loss: 0.3779 - accuracy: 0.8439 - val_loss: 0.3344 - val_accuracy: 0.8725 - 576ms/epoch - 3ms/step\n",
      "Epoch 45/100\n",
      "225/225 - 1s - loss: 0.3755 - accuracy: 0.8481 - val_loss: 0.3340 - val_accuracy: 0.8737 - 568ms/epoch - 3ms/step\n",
      "Epoch 46/100\n",
      "225/225 - 1s - loss: 0.3732 - accuracy: 0.8436 - val_loss: 0.3328 - val_accuracy: 0.8750 - 580ms/epoch - 3ms/step\n",
      "Epoch 47/100\n",
      "225/225 - 1s - loss: 0.3684 - accuracy: 0.8479 - val_loss: 0.3307 - val_accuracy: 0.8725 - 590ms/epoch - 3ms/step\n",
      "Epoch 48/100\n",
      "225/225 - 1s - loss: 0.3692 - accuracy: 0.8493 - val_loss: 0.3310 - val_accuracy: 0.8763 - 613ms/epoch - 3ms/step\n",
      "Epoch 49/100\n",
      "225/225 - 1s - loss: 0.3680 - accuracy: 0.8453 - val_loss: 0.3320 - val_accuracy: 0.8712 - 587ms/epoch - 3ms/step\n",
      "Epoch 50/100\n",
      "225/225 - 0s - loss: 0.3687 - accuracy: 0.8489 - val_loss: 0.3322 - val_accuracy: 0.8737 - 437ms/epoch - 2ms/step\n",
      "Epoch 51/100\n",
      "225/225 - 1s - loss: 0.3673 - accuracy: 0.8479 - val_loss: 0.3315 - val_accuracy: 0.8763 - 602ms/epoch - 3ms/step\n",
      "Epoch 52/100\n",
      "225/225 - 1s - loss: 0.3715 - accuracy: 0.8486 - val_loss: 0.3330 - val_accuracy: 0.8763 - 603ms/epoch - 3ms/step\n",
      "Epoch 53/100\n",
      "225/225 - 1s - loss: 0.3647 - accuracy: 0.8453 - val_loss: 0.3314 - val_accuracy: 0.8750 - 626ms/epoch - 3ms/step\n",
      "Epoch 54/100\n",
      "225/225 - 1s - loss: 0.3705 - accuracy: 0.8447 - val_loss: 0.3321 - val_accuracy: 0.8763 - 582ms/epoch - 3ms/step\n",
      "Epoch 55/100\n",
      "225/225 - 1s - loss: 0.3666 - accuracy: 0.8487 - val_loss: 0.3313 - val_accuracy: 0.8750 - 599ms/epoch - 3ms/step\n",
      "Epoch 56/100\n",
      "225/225 - 1s - loss: 0.3736 - accuracy: 0.8476 - val_loss: 0.3324 - val_accuracy: 0.8775 - 614ms/epoch - 3ms/step\n",
      "Epoch 57/100\n",
      "225/225 - 0s - loss: 0.3678 - accuracy: 0.8503 - val_loss: 0.3315 - val_accuracy: 0.8737 - 385ms/epoch - 2ms/step\n",
      "Epoch 58/100\n",
      "225/225 - 1s - loss: 0.3706 - accuracy: 0.8443 - val_loss: 0.3320 - val_accuracy: 0.8725 - 504ms/epoch - 2ms/step\n",
      "Epoch 59/100\n",
      "225/225 - 1s - loss: 0.3716 - accuracy: 0.8440 - val_loss: 0.3327 - val_accuracy: 0.8687 - 580ms/epoch - 3ms/step\n",
      "Epoch 60/100\n",
      "225/225 - 1s - loss: 0.3709 - accuracy: 0.8454 - val_loss: 0.3327 - val_accuracy: 0.8737 - 582ms/epoch - 3ms/step\n",
      "Epoch 61/100\n",
      "225/225 - 1s - loss: 0.3720 - accuracy: 0.8465 - val_loss: 0.3320 - val_accuracy: 0.8775 - 590ms/epoch - 3ms/step\n",
      "Epoch 62/100\n",
      "225/225 - 1s - loss: 0.3687 - accuracy: 0.8444 - val_loss: 0.3307 - val_accuracy: 0.8737 - 606ms/epoch - 3ms/step\n",
      "Epoch 63/100\n",
      "225/225 - 1s - loss: 0.3736 - accuracy: 0.8435 - val_loss: 0.3317 - val_accuracy: 0.8737 - 577ms/epoch - 3ms/step\n",
      "Epoch 64/100\n",
      "225/225 - 1s - loss: 0.3747 - accuracy: 0.8413 - val_loss: 0.3318 - val_accuracy: 0.8737 - 585ms/epoch - 3ms/step\n",
      "Epoch 65/100\n",
      "225/225 - 1s - loss: 0.3703 - accuracy: 0.8447 - val_loss: 0.3309 - val_accuracy: 0.8775 - 600ms/epoch - 3ms/step\n",
      "Epoch 66/100\n",
      "225/225 - 1s - loss: 0.3732 - accuracy: 0.8435 - val_loss: 0.3326 - val_accuracy: 0.8800 - 599ms/epoch - 3ms/step\n",
      "Epoch 67/100\n",
      "225/225 - 1s - loss: 0.3715 - accuracy: 0.8469 - val_loss: 0.3323 - val_accuracy: 0.8763 - 591ms/epoch - 3ms/step\n",
      "Epoch 68/100\n",
      "225/225 - 1s - loss: 0.3691 - accuracy: 0.8453 - val_loss: 0.3300 - val_accuracy: 0.8775 - 606ms/epoch - 3ms/step\n",
      "Epoch 69/100\n",
      "225/225 - 1s - loss: 0.3694 - accuracy: 0.8493 - val_loss: 0.3295 - val_accuracy: 0.8813 - 577ms/epoch - 3ms/step\n",
      "Epoch 70/100\n",
      "225/225 - 1s - loss: 0.3700 - accuracy: 0.8460 - val_loss: 0.3303 - val_accuracy: 0.8763 - 583ms/epoch - 3ms/step\n",
      "Epoch 71/100\n",
      "225/225 - 1s - loss: 0.3716 - accuracy: 0.8468 - val_loss: 0.3299 - val_accuracy: 0.8763 - 579ms/epoch - 3ms/step\n",
      "Epoch 72/100\n",
      "225/225 - 1s - loss: 0.3727 - accuracy: 0.8464 - val_loss: 0.3311 - val_accuracy: 0.8825 - 542ms/epoch - 2ms/step\n",
      "Epoch 73/100\n",
      "225/225 - 1s - loss: 0.3620 - accuracy: 0.8489 - val_loss: 0.3286 - val_accuracy: 0.8775 - 576ms/epoch - 3ms/step\n",
      "Epoch 74/100\n",
      "225/225 - 1s - loss: 0.3697 - accuracy: 0.8451 - val_loss: 0.3301 - val_accuracy: 0.8775 - 581ms/epoch - 3ms/step\n",
      "Epoch 75/100\n",
      "225/225 - 1s - loss: 0.3687 - accuracy: 0.8461 - val_loss: 0.3303 - val_accuracy: 0.8775 - 575ms/epoch - 3ms/step\n",
      "Epoch 76/100\n",
      "225/225 - 1s - loss: 0.3666 - accuracy: 0.8468 - val_loss: 0.3299 - val_accuracy: 0.8750 - 568ms/epoch - 3ms/step\n",
      "Epoch 77/100\n",
      "225/225 - 1s - loss: 0.3730 - accuracy: 0.8443 - val_loss: 0.3319 - val_accuracy: 0.8763 - 574ms/epoch - 3ms/step\n",
      "Epoch 78/100\n",
      "225/225 - 1s - loss: 0.3699 - accuracy: 0.8431 - val_loss: 0.3313 - val_accuracy: 0.8750 - 563ms/epoch - 3ms/step\n",
      "Epoch 79/100\n",
      "225/225 - 1s - loss: 0.3681 - accuracy: 0.8483 - val_loss: 0.3319 - val_accuracy: 0.8763 - 579ms/epoch - 3ms/step\n",
      "Epoch 80/100\n",
      "225/225 - 1s - loss: 0.3679 - accuracy: 0.8449 - val_loss: 0.3303 - val_accuracy: 0.8750 - 594ms/epoch - 3ms/step\n",
      "Epoch 81/100\n",
      "225/225 - 1s - loss: 0.3631 - accuracy: 0.8492 - val_loss: 0.3294 - val_accuracy: 0.8763 - 752ms/epoch - 3ms/step\n",
      "Epoch 82/100\n",
      "225/225 - 1s - loss: 0.3671 - accuracy: 0.8467 - val_loss: 0.3305 - val_accuracy: 0.8750 - 589ms/epoch - 3ms/step\n",
      "Epoch 83/100\n",
      "225/225 - 1s - loss: 0.3672 - accuracy: 0.8482 - val_loss: 0.3298 - val_accuracy: 0.8763 - 572ms/epoch - 3ms/step\n",
      "Epoch 84/100\n",
      "225/225 - 1s - loss: 0.3656 - accuracy: 0.8478 - val_loss: 0.3296 - val_accuracy: 0.8763 - 578ms/epoch - 3ms/step\n",
      "Epoch 85/100\n",
      "225/225 - 1s - loss: 0.3621 - accuracy: 0.8535 - val_loss: 0.3301 - val_accuracy: 0.8750 - 586ms/epoch - 3ms/step\n",
      "Epoch 86/100\n",
      "225/225 - 1s - loss: 0.3693 - accuracy: 0.8456 - val_loss: 0.3314 - val_accuracy: 0.8775 - 573ms/epoch - 3ms/step\n",
      "Epoch 87/100\n",
      "225/225 - 1s - loss: 0.3639 - accuracy: 0.8490 - val_loss: 0.3302 - val_accuracy: 0.8737 - 564ms/epoch - 3ms/step\n",
      "Epoch 88/100\n",
      "225/225 - 1s - loss: 0.3705 - accuracy: 0.8464 - val_loss: 0.3319 - val_accuracy: 0.8788 - 570ms/epoch - 3ms/step\n",
      "Epoch 89/100\n",
      "225/225 - 1s - loss: 0.3730 - accuracy: 0.8432 - val_loss: 0.3310 - val_accuracy: 0.8800 - 576ms/epoch - 3ms/step\n",
      "Epoch 90/100\n",
      "225/225 - 1s - loss: 0.3684 - accuracy: 0.8474 - val_loss: 0.3294 - val_accuracy: 0.8763 - 599ms/epoch - 3ms/step\n",
      "Epoch 91/100\n",
      "225/225 - 1s - loss: 0.3700 - accuracy: 0.8456 - val_loss: 0.3327 - val_accuracy: 0.8763 - 593ms/epoch - 3ms/step\n",
      "Epoch 92/100\n",
      "225/225 - 1s - loss: 0.3704 - accuracy: 0.8464 - val_loss: 0.3316 - val_accuracy: 0.8750 - 613ms/epoch - 3ms/step\n",
      "Epoch 93/100\n",
      "225/225 - 1s - loss: 0.3649 - accuracy: 0.8506 - val_loss: 0.3298 - val_accuracy: 0.8800 - 576ms/epoch - 3ms/step\n",
      "Epoch 94/100\n",
      "225/225 - 1s - loss: 0.3692 - accuracy: 0.8451 - val_loss: 0.3295 - val_accuracy: 0.8775 - 568ms/epoch - 3ms/step\n",
      "Epoch 95/100\n",
      "225/225 - 1s - loss: 0.3644 - accuracy: 0.8501 - val_loss: 0.3282 - val_accuracy: 0.8788 - 578ms/epoch - 3ms/step\n",
      "Epoch 96/100\n",
      "225/225 - 1s - loss: 0.3719 - accuracy: 0.8457 - val_loss: 0.3329 - val_accuracy: 0.8788 - 599ms/epoch - 3ms/step\n",
      "Epoch 97/100\n",
      "225/225 - 1s - loss: 0.3649 - accuracy: 0.8454 - val_loss: 0.3302 - val_accuracy: 0.8775 - 592ms/epoch - 3ms/step\n",
      "Epoch 98/100\n",
      "225/225 - 1s - loss: 0.3651 - accuracy: 0.8522 - val_loss: 0.3286 - val_accuracy: 0.8775 - 579ms/epoch - 3ms/step\n",
      "Epoch 99/100\n",
      "225/225 - 1s - loss: 0.3658 - accuracy: 0.8460 - val_loss: 0.3296 - val_accuracy: 0.8775 - 578ms/epoch - 3ms/step\n",
      "Epoch 100/100\n",
      "225/225 - 1s - loss: 0.3718 - accuracy: 0.8475 - val_loss: 0.3304 - val_accuracy: 0.8750 - 573ms/epoch - 3ms/step\n"
     ]
    }
   ],
   "source": [
    "history = classifier.fit(X_train, y_train, batch_size = 32, epochs = 100, validation_split = 0.1, verbose = 2)"
   ]
  },
  {
   "cell_type": "code",
   "execution_count": 26,
   "id": "355f556b",
   "metadata": {},
   "outputs": [
    {
     "name": "stdout",
     "output_type": "stream",
     "text": [
      "63/63 [==============================] - 0s 2ms/step\n",
      "[[0.23524319]\n",
      " [0.28624055]\n",
      " [0.14680599]\n",
      " [0.06220995]\n",
      " [0.15009077]]\n"
     ]
    }
   ],
   "source": [
    "y_pred = classifier.predict(X_test)\n",
    "print(y_pred[:5])"
   ]
  },
  {
   "cell_type": "code",
   "execution_count": 27,
   "id": "b7124505",
   "metadata": {},
   "outputs": [
    {
     "name": "stdout",
     "output_type": "stream",
     "text": [
      "[[0]\n",
      " [0]\n",
      " [0]\n",
      " [0]\n",
      " [0]]\n"
     ]
    }
   ],
   "source": [
    "y_pred = (y_pred > 0.5).astype(int)\n",
    "print(y_pred[:5])"
   ]
  },
  {
   "cell_type": "code",
   "execution_count": 28,
   "id": "d0246fc3",
   "metadata": {},
   "outputs": [
    {
     "name": "stdout",
     "output_type": "stream",
     "text": [
      "[[1526   69]\n",
      " [ 196  209]]\n"
     ]
    }
   ],
   "source": [
    "from sklearn.metrics import confusion_matrix\n",
    "cm = confusion_matrix(y_test, y_pred)\n",
    "print(cm)"
   ]
  },
  {
   "cell_type": "code",
   "execution_count": 29,
   "id": "9ae30e93",
   "metadata": {},
   "outputs": [
    {
     "name": "stdout",
     "output_type": "stream",
     "text": [
      "86.75 % of data was classified correctly\n"
     ]
    }
   ],
   "source": [
    "print(((cm[0][0] + cm[1][1])* 100) / len(y_test), '% of data was classified correctly')"
   ]
  },
  {
   "cell_type": "code",
   "execution_count": null,
   "id": "742a9e37",
   "metadata": {},
   "outputs": [],
   "source": []
  }
 ],
 "metadata": {
  "kernelspec": {
   "display_name": "Python 3 (ipykernel)",
   "language": "python",
   "name": "python3"
  },
  "language_info": {
   "codemirror_mode": {
    "name": "ipython",
    "version": 3
   },
   "file_extension": ".py",
   "mimetype": "text/x-python",
   "name": "python",
   "nbconvert_exporter": "python",
   "pygments_lexer": "ipython3",
   "version": "3.9.13"
  }
 },
 "nbformat": 4,
 "nbformat_minor": 5
}
