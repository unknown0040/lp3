{
 "cells": [
  {
   "cell_type": "code",
   "execution_count": null,
   "id": "67eb15fa",
   "metadata": {},
   "outputs": [],
   "source": [
    "import pandas as pd\n",
    "\n",
    "# Load the dataset\n",
    "data = pd.read_csv('Churn_Modelling.csv')  # Replace 'BankChurnData.csv' with the actual dataset path\n"
   ]
  },
  {
   "cell_type": "code",
   "execution_count": null,
   "id": "2013b3c8",
   "metadata": {},
   "outputs": [],
   "source": [
    "data"
   ]
  },
  {
   "cell_type": "code",
   "execution_count": null,
   "id": "aa29ad4f",
   "metadata": {},
   "outputs": [],
   "source": [
    "data['Gender'].replace(['Female', 'Male'],[0, 1], inplace=True)"
   ]
  },
  {
   "cell_type": "code",
   "execution_count": null,
   "id": "3c41309e",
   "metadata": {},
   "outputs": [],
   "source": [
    "data['Geography'].replace(['France', 'Spain','Germany'],[0, 1, 2], inplace=True)"
   ]
  },
  {
   "cell_type": "code",
   "execution_count": null,
   "id": "827f7b35",
   "metadata": {
    "scrolled": false
   },
   "outputs": [],
   "source": [
    "data"
   ]
  },
  {
   "cell_type": "code",
   "execution_count": null,
   "id": "7a816d2a",
   "metadata": {},
   "outputs": [],
   "source": [
    "data.isnull.sum()"
   ]
  },
  {
   "cell_type": "code",
   "execution_count": null,
   "id": "c91c9db7",
   "metadata": {},
   "outputs": [],
   "source": [
    "data.dtypes"
   ]
  },
  {
   "cell_type": "code",
   "execution_count": null,
   "id": "779ed4d0",
   "metadata": {},
   "outputs": [],
   "source": [
    "data['CreditScore']=(data['CreditScore']-data['CreditScore'].min())/(data['CreditScore'].max()-data['CreditScore'].min())\n",
    "data['Balance']=(data['Balance']-data['Balance'].min())/(data['Balance'].max()-data['Balance'].min())\n",
    "data['EstimatedSalary']=(data['EstimatedSalary']-data['EstimatedSalary'].min())/(data['EstimatedSalary'].max()-data['EstimatedSalary'].min())"
   ]
  },
  {
   "cell_type": "code",
   "execution_count": null,
   "id": "5893d4c6",
   "metadata": {},
   "outputs": [],
   "source": [
    "data"
   ]
  },
  {
   "cell_type": "code",
   "execution_count": null,
   "id": "8ff50d92",
   "metadata": {},
   "outputs": [],
   "source": [
    "from sklearn.model_selection import train_test_split\n",
    "\n",
    "# Define the features (X) and the target (y)\n",
    "X = data.drop(columns=['Exited','RowNumber','Surname'])  # Exited is the target variable\n",
    "y = data['Exited']\n",
    "\n",
    "# Split the data into training and test sets (e.g., 80% train, 20% test)\n",
    "X_train, X_test, y_train, y_test = train_test_split(X, y, test_size=0.2, random_state=42)\n"
   ]
  },
  {
   "cell_type": "code",
   "execution_count": null,
   "id": "88bbc12c",
   "metadata": {},
   "outputs": [],
   "source": [
    "from sklearn.preprocessing import StandardScaler\n",
    "\n",
    "scaler = StandardScaler()\n",
    "X_train = scaler.fit_transform(X_train)\n",
    "X_test = scaler.transform(X_test)\n"
   ]
  },
  {
   "cell_type": "code",
   "execution_count": null,
   "id": "9cb82441",
   "metadata": {},
   "outputs": [],
   "source": [
    "import tensorflow as tf\n",
    "from tensorflow import keras\n",
    "from tensorflow.keras import layers"
   ]
  },
  {
   "cell_type": "code",
   "execution_count": null,
   "id": "6e9bea99",
   "metadata": {},
   "outputs": [],
   "source": [
    "# Initialize the model\n",
    "model = keras.Sequential()"
   ]
  },
  {
   "cell_type": "code",
   "execution_count": null,
   "id": "4bca36f8",
   "metadata": {},
   "outputs": [],
   "source": [
    "# Add input layer\n",
    "model.add(layers.Input(shape=(X_train.shape[1],)))"
   ]
  },
  {
   "cell_type": "code",
   "execution_count": null,
   "id": "cd14e637",
   "metadata": {},
   "outputs": [],
   "source": [
    "# Add hidden layers\n",
    "model.add(layers.Dense(64, activation='relu'))\n",
    "model.add(layers.Dense(32, activation='relu'))"
   ]
  },
  {
   "cell_type": "code",
   "execution_count": null,
   "id": "d47fb1ce",
   "metadata": {},
   "outputs": [],
   "source": [
    "# Add output layer with a sigmoid activation (binary classification)\n",
    "model.add(layers.Dense(1, activation='sigmoid'))"
   ]
  },
  {
   "cell_type": "code",
   "execution_count": null,
   "id": "2264a30d",
   "metadata": {},
   "outputs": [],
   "source": [
    "# Compile the model\n",
    "model.compile(optimizer='adam', loss='binary_crossentropy', metrics=['accuracy'])"
   ]
  },
  {
   "cell_type": "code",
   "execution_count": null,
   "id": "b907264f",
   "metadata": {},
   "outputs": [],
   "source": [
    "# Train the model\n",
    "model.fit(X_train, y_train, epochs=20, batch_size=32)"
   ]
  },
  {
   "cell_type": "code",
   "execution_count": null,
   "id": "799a41f7",
   "metadata": {},
   "outputs": [],
   "source": [
    "from sklearn.metrics import accuracy_score, confusion_matrix\n",
    "\n",
    "# Predict on the test set\n",
    "y_pred = model.predict(X_test)\n",
    "y_pred = (y_pred > 0.5).astype(int)\n",
    "\n",
    "# Calculate accuracy\n",
    "accuracy = accuracy_score(y_test, y_pred)\n",
    "print(\"Accuracy:\", accuracy)\n",
    "\n",
    "# Generate a confusion matrix\n",
    "confusion = confusion_matrix(y_test, y_pred)\n",
    "print(\"Confusion Matrix:\")\n",
    "print(confusion)\n"
   ]
  }
 ],
 "metadata": {
  "kernelspec": {
   "display_name": "Python 3 (ipykernel)",
   "language": "python",
   "name": "python3"
  },
  "language_info": {
   "codemirror_mode": {
    "name": "ipython",
    "version": 3
   },
   "file_extension": ".py",
   "mimetype": "text/x-python",
   "name": "python",
   "nbconvert_exporter": "python",
   "pygments_lexer": "ipython3",
   "version": "3.11.4"
  }
 },
 "nbformat": 4,
 "nbformat_minor": 5
}
