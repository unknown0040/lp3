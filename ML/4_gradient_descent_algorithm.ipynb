{
 "cells": [
  {
   "cell_type": "code",
   "execution_count": null,
   "id": "4a616865",
   "metadata": {},
   "outputs": [],
   "source": [
    "import numpy as np\n",
    "import pandas as pd\n",
    "import sympy as sym\n",
    "import matplotlib as pyplot\n",
    "from matplotlib import pyplot"
   ]
  },
  {
   "cell_type": "code",
   "execution_count": null,
   "id": "9741da41",
   "metadata": {},
   "outputs": [],
   "source": [
    "def objective(x):\n",
    "    return (x+3)**2"
   ]
  },
  {
   "cell_type": "code",
   "execution_count": null,
   "id": "40df75e6",
   "metadata": {},
   "outputs": [],
   "source": [
    "def derivative(x):\n",
    "    return 2*(x+3)"
   ]
  },
  {
   "cell_type": "code",
   "execution_count": null,
   "id": "e93960ef",
   "metadata": {},
   "outputs": [],
   "source": [
    "def gradient(alpha,start,max_iter):\n",
    "    x_list=list()\n",
    "    x=start\n",
    "    x_list.append(x)\n",
    "    for i in range(max_iter):\n",
    "        gradi=derivative(x)\n",
    "        x=x-(alpha*gradi)\n",
    "        x_list.append(x)\n",
    "    return x_list\n",
    "x=sym.symbols('x')\n",
    "expr=(x+3)**2.0\n",
    "grad=sym.Derivative(expr,x)\n",
    "print(\"{}\".format(grad.doit()))\n",
    "grad.doit().subs(x,2)"
   ]
  },
  {
   "cell_type": "code",
   "execution_count": null,
   "id": "aa47c123",
   "metadata": {},
   "outputs": [],
   "source": [
    "x_list"
   ]
  },
  {
   "cell_type": "code",
   "execution_count": null,
   "id": "49728a0c",
   "metadata": {},
   "outputs": [],
   "source": [
    "alpha=0.1\n",
    "start=2\n",
    "max_iter=100\n",
    "x=sym.symbols('x')\n",
    "expr=(x+3)**2"
   ]
  },
  {
   "cell_type": "code",
   "execution_count": null,
   "id": "76b7e911",
   "metadata": {},
   "outputs": [],
   "source": [
    "x_cor=np.linspace(-15,15,100)\n",
    "pyplot.plot(x_cor,objective(x_cor))\n",
    "pyplot.plot(2,objective(2),'ro')"
   ]
  },
  {
   "cell_type": "code",
   "execution_count": null,
   "id": "75a5268a",
   "metadata": {},
   "outputs": [],
   "source": [
    "x=gradient(alpha,start,max_iter)\n",
    "x_cor=np.linspace(-5,5,100)\n",
    "pyplot.plot(x_cor,objective(x_cor))\n",
    "\n",
    "x_arr=np.array(x)\n",
    "pyplot.plot(x_arr,objective(x_arr),'.-',color='red')\n",
    "pyplot.show()"
   ]
  },
  {
   "cell_type": "code",
   "execution_count": null,
   "id": "f45d5ee6",
   "metadata": {},
   "outputs": [],
   "source": [
    "print(\"Local minima: \", x_arr[-1])"
   ]
  }
 ],
 "metadata": {
  "kernelspec": {
   "display_name": "Python 3 (ipykernel)",
   "language": "python",
   "name": "python3"
  },
  "language_info": {
   "codemirror_mode": {
    "name": "ipython",
    "version": 3
   },
   "file_extension": ".py",
   "mimetype": "text/x-python",
   "name": "python",
   "nbconvert_exporter": "python",
   "pygments_lexer": "ipython3",
   "version": "3.11.4"
  }
 },
 "nbformat": 4,
 "nbformat_minor": 5
}
