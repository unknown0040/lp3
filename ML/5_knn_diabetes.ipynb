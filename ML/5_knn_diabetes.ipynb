{
 "cells": [
  {
   "cell_type": "code",
   "execution_count": null,
   "id": "26b5febc",
   "metadata": {},
   "outputs": [],
   "source": [
    "import numpy as np\n",
    "import pandas as pd\n",
    "from sklearn.model_selection import train_test_split\n",
    "from sklearn.neighbors import KNeighborsClassifier"
   ]
  },
  {
   "cell_type": "code",
   "execution_count": null,
   "id": "c2cf2aa6",
   "metadata": {},
   "outputs": [],
   "source": [
    "df = pd.read_csv(\"diabetes.csv\")\n",
    "df"
   ]
  },
  {
   "cell_type": "code",
   "execution_count": null,
   "id": "5418e41b",
   "metadata": {},
   "outputs": [],
   "source": [
    "df.isnull().sum()"
   ]
  },
  {
   "cell_type": "code",
   "execution_count": null,
   "id": "b937f54a",
   "metadata": {},
   "outputs": [],
   "source": [
    "#Replace zero values with mean values\n",
    "for column in df.columns[1:-3]:\n",
    "    df[column].replace(0, np.NaN, inplace = True)\n",
    "    df[column].fillna(round(df[column].mean(skipna=True)), inplace = True)\n",
    "df.head(10)"
   ]
  },
  {
   "cell_type": "code",
   "execution_count": null,
   "id": "ae04bf6a",
   "metadata": {},
   "outputs": [],
   "source": [
    "X = df.iloc[:, :8] \n",
    "Y = df.iloc[:, 8:] "
   ]
  },
  {
   "cell_type": "code",
   "execution_count": null,
   "id": "91048fc9",
   "metadata": {},
   "outputs": [],
   "source": [
    "# from sklearn.model_selection import train_test_split`\n",
    "X_train, X_test, Y_train, Y_test = train_test_split(X, Y, test_size=0.2, random_state=0)"
   ]
  },
  {
   "cell_type": "code",
   "execution_count": null,
   "id": "d13a9888",
   "metadata": {},
   "outputs": [],
   "source": [
    "# from sklearn.neighbors import KNeighborsClassifier\n",
    "knn = KNeighborsClassifier()\n",
    "knn_fit = knn.fit(X_train, Y_train.values.ravel())\n",
    "knn_pred = knn_fit.predict(X_test)"
   ]
  },
  {
   "cell_type": "code",
   "execution_count": null,
   "id": "3aa34cda",
   "metadata": {},
   "outputs": [],
   "source": [
    "from sklearn.metrics import confusion_matrix, precision_score, recall_score, accuracy_score\n",
    "print(\"Confusion Matrix\")\n",
    "print(confusion_matrix(Y_test, knn_pred))\n",
    "print(\"Accuracy Score:\", accuracy_score(Y_test, knn_pred))\n",
    "print(\"Error rate:\", 1-accuracy_score(Y_test, knn_pred))\n",
    "print(\"Reacall Score:\", recall_score(Y_test, knn_pred))\n",
    "print(\"Precision Score:\",precision_score(Y_test, knn_pred))"
   ]
  },
  {
   "cell_type": "code",
   "execution_count": null,
   "id": "4789ac6f",
   "metadata": {},
   "outputs": [],
   "source": []
  }
 ],
 "metadata": {
  "kernelspec": {
   "display_name": "Python 3 (ipykernel)",
   "language": "python",
   "name": "python3"
  },
  "language_info": {
   "codemirror_mode": {
    "name": "ipython",
    "version": 3
   },
   "file_extension": ".py",
   "mimetype": "text/x-python",
   "name": "python",
   "nbconvert_exporter": "python",
   "pygments_lexer": "ipython3",
   "version": "3.11.4"
  }
 },
 "nbformat": 4,
 "nbformat_minor": 5
}
